{
 "cells": [
  {
   "cell_type": "code",
   "execution_count": 1,
   "metadata": {
    "collapsed": false
   },
   "outputs": [],
   "source": [
    "import numpy as np\n",
    "import networkx as nx\n",
    "import matplotlib.pyplot as plt\n",
    "from collections import defaultdict\n",
    "from collections import Counter\n",
    "import scipy.stats as stats\n",
    "%matplotlib inline"
   ]
  },
  {
   "cell_type": "markdown",
   "metadata": {},
   "source": [
    "The amount of information is going to be less as the position in the hierarchy increases. And the amount of trust could be random throughout the network."
   ]
  },
  {
   "cell_type": "code",
   "execution_count": 2,
   "metadata": {
    "collapsed": false
   },
   "outputs": [
    {
     "name": "stdout",
     "output_type": "stream",
     "text": [
      "1 2\n",
      "possible subordinates [1, 2]\n",
      "after popping []\n",
      "##current supervisor 0\n",
      "####current subordinate 1\n",
      "i 1\n",
      "####current subordinate 2\n",
      "i 1\n",
      "2 4\n",
      "possible subordinates [3, 4, 5, 6]\n",
      "after popping [2]\n",
      "##current supervisor 1\n",
      "####current subordinate 3\n",
      "i 2\n",
      "####current subordinate 4\n",
      "i 2\n",
      "after popping []\n",
      "##current supervisor 2\n",
      "####current subordinate 5\n",
      "i 2\n",
      "####current subordinate 6\n",
      "i 2\n",
      "3 8\n",
      "possible subordinates [7, 8, 9, 10, 11, 12, 13, 14]\n",
      "after popping [4, 5, 6]\n",
      "##current supervisor 3\n",
      "####current subordinate 7\n",
      "i 3\n",
      "####current subordinate 8\n",
      "i 3\n",
      "after popping [5, 6]\n",
      "##current supervisor 4\n",
      "####current subordinate 9\n",
      "i 3\n",
      "####current subordinate 10\n",
      "i 3\n",
      "after popping [6]\n",
      "##current supervisor 5\n",
      "####current subordinate 11\n",
      "i 3\n",
      "####current subordinate 12\n",
      "i 3\n",
      "after popping []\n",
      "##current supervisor 6\n",
      "####current subordinate 13\n",
      "i 3\n",
      "####current subordinate 14\n",
      "i 3\n",
      "4 16\n",
      "possible subordinates [15, 16, 17, 18, 19, 20, 21, 22, 23, 24, 25, 26, 27, 28, 29, 30]\n",
      "after popping [8, 9, 10, 11, 12, 13, 14]\n",
      "##current supervisor 7\n",
      "####current subordinate 15\n",
      "i 4\n",
      "####current subordinate 16\n",
      "i 4\n",
      "after popping [9, 10, 11, 12, 13, 14]\n",
      "##current supervisor 8\n",
      "####current subordinate 17\n",
      "i 4\n",
      "####current subordinate 18\n",
      "i 4\n",
      "after popping [10, 11, 12, 13, 14]\n",
      "##current supervisor 9\n",
      "####current subordinate 19\n",
      "i 4\n",
      "####current subordinate 20\n",
      "i 4\n",
      "after popping [11, 12, 13, 14]\n",
      "##current supervisor 10\n",
      "####current subordinate 21\n",
      "i 4\n",
      "####current subordinate 22\n",
      "i 4\n",
      "after popping [12, 13, 14]\n",
      "##current supervisor 11\n",
      "####current subordinate 23\n",
      "i 4\n",
      "####current subordinate 24\n",
      "i 4\n",
      "after popping [13, 14]\n",
      "##current supervisor 12\n",
      "####current subordinate 25\n",
      "i 4\n",
      "####current subordinate 26\n",
      "i 4\n",
      "after popping [14]\n",
      "##current supervisor 13\n",
      "####current subordinate 27\n",
      "i 4\n",
      "####current subordinate 28\n",
      "i 4\n",
      "after popping []\n",
      "##current supervisor 14\n",
      "####current subordinate 29\n",
      "i 4\n",
      "####current subordinate 30\n",
      "i 4\n",
      "[15, 16, 17, 18, 19, 20, 21, 22, 23, 24, 25, 26, 27, 28, 29, 30]\n",
      "[15, 16, 17, 18, 19, 20, 21, 22, 23, 24, 25, 26, 27, 28, 29, 30]\n"
     ]
    },
    {
     "data": {
      "image/png": "[encoded data removed]",
      "text/plain": [
       "<matplotlib.figure.Figure at 0x109b2de10>"
      ]
     },
     "metadata": {},
     "output_type": "display_data"
    }
   ],
   "source": [
    "num_levels = 5\n",
    "num_subordinates = 2\n",
    "G = nx.DiGraph()\n",
    "G.add_node(0)\n",
    "i = 1\n",
    "leaf_nodes_last_level = [0]\n",
    "nodes_in_levels = defaultdict(list)\n",
    "nodes_in_levels[0] = [0]\n",
    "levels_of_nodes = dict()\n",
    "levels_of_nodes[0] = 0\n",
    "\n",
    "for i in range(1, num_levels):\n",
    "    print i, pow(2,i)\n",
    "    num_nodes_this_level = pow(2,i)\n",
    "    possible_subordinates = range(G.number_of_nodes(), G.number_of_nodes()+ num_nodes_this_level )\n",
    "    leaf_nodes_next_level = list(possible_subordinates)\n",
    "    print \"possible subordinates\", possible_subordinates\n",
    "\n",
    "    while len(leaf_nodes_last_level) > 0:\n",
    "        current_supervisor = leaf_nodes_last_level.pop(0)\n",
    "        print \"after popping\", leaf_nodes_last_level\n",
    "        print \"##current supervisor\", current_supervisor\n",
    "        for j in range(num_subordinates):\n",
    "            current_subordinate = possible_subordinates.pop(0)\n",
    "            print \"####current subordinate\", current_subordinate\n",
    "            G.add_edge(current_supervisor, current_subordinate)\n",
    "            print \"i\", i\n",
    "            nodes_in_levels[i].append(current_subordinate)\n",
    "            levels_of_nodes[current_subordinate] = i\n",
    "    leaf_nodes_last_level = list(leaf_nodes_next_level)\n",
    "        \n",
    "# pos = hierarchy_pos(btree2, 0)\n",
    "#nx.draw(btree2,pos=nx.draw_networkx(btree2),with_labels=True,arrows=True)\n",
    "pos=nx.nx_pydot.graphviz_layout(G,prog='dot')\n",
    "nx.draw(G,pos,with_labels=True,arrows=True)\n",
    "\n",
    "print leaf_nodes_last_level\n",
    "print leaf_nodes_next_level"
   ]
  },
  {
   "cell_type": "markdown",
   "metadata": {},
   "source": [
    "Our first assumption is that the deeper the level the less the initial information $H$ in the node. And we will distribute the initial $\\alpha$ value distributed randomly using a lognormal distributions with parameter $\\mu$ and $\\sigma$"
   ]
  },
  {
   "cell_type": "code",
   "execution_count": 3,
   "metadata": {
    "collapsed": false
   },
   "outputs": [],
   "source": [
    "def sample_h(level, mean_info = 0.7, sd_info = 0.05, dmu = 0.1):\n",
    "    ## the distribution will be Truncated between 0 and 1\n",
    "    lower, upper = 0, 1\n",
    "    ## The distribution\n",
    "    mu = mean_info - (dmu * (level-1))\n",
    "    sigma = sd_info\n",
    "    X = stats.truncnorm((lower - mu) / sigma, (upper - mu) / sigma, loc=mu, scale=sigma)\n",
    "    s = X.rvs(1)[0]\n",
    "    return s\n",
    "\n",
    "def sample_alpha(mu = 0.5, sigma = 0.1):\n",
    "    ## the distribution will be Truncated between 0 and 1\n",
    "    lower, upper = 0, 1\n",
    "    ## The distribution\n",
    "    X = stats.truncnorm((lower - mu) / sigma, (upper - mu) / sigma, loc=mu, scale=sigma)\n",
    "    s = X.rvs(1)[0]\n",
    "    return s\n",
    "\n",
    "def sample_change_in_alpha(mu = 0.1, sigma = 0.01):\n",
    "    ## the distribution will be Truncated between 0 and 1\n",
    "    lower, upper = 0, 1\n",
    "    ## The distribution\n",
    "    X = stats.truncnorm((lower - mu) / sigma, (upper - mu) / sigma, loc=mu, scale=sigma)\n",
    "    s = X.rvs(1)[0]\n",
    "    return s"
   ]
  },
  {
   "cell_type": "markdown",
   "metadata": {},
   "source": [
    "We do not have any problem assigning H in node 0 as there is no edge pointing towards him. So for mu, dmu * (level -1 ) is not a problem."
   ]
  },
  {
   "cell_type": "code",
   "execution_count": 4,
   "metadata": {
    "collapsed": false
   },
   "outputs": [],
   "source": [
    "mean_trust = 0.5\n",
    "sd_trust = 0.1\n",
    "mean_info_higehst_level = 0.7\n",
    "dmu_each_level = mean_info_higehst_level / (num_levels - 1)\n",
    "mean_change_in_alpha = 0.05\n",
    "sd_change_in_alpha = 0.001\n",
    "\n",
    "for edge in G.edges():\n",
    "    subordinate_node = edge[1]\n",
    "    current_h = sample_h(levels_of_nodes[subordinate_node], mean_info = mean_info_higehst_level, dmu = dmu_each_level)\n",
    "    current_alpha = sample_alpha(mean_trust, sd_trust)\n",
    "    G[edge[0]][edge[1]]['H'] = current_h\n",
    "    G[edge[0]][edge[1]]['alpha'] = current_alpha\n",
    "    "
   ]
  },
  {
   "cell_type": "code",
   "execution_count": 5,
   "metadata": {
    "collapsed": false
   },
   "outputs": [
    {
     "data": {
      "text/plain": [
       "{(0, 1): 0.58519292126516309,\n",
       " (0, 2): 0.48830109137452915,\n",
       " (1, 3): 0.40759243198872658,\n",
       " (1, 4): 0.45191872898383723,\n",
       " (2, 5): 0.54215719704342791,\n",
       " (2, 6): 0.33021942968775914,\n",
       " (3, 7): 0.61716995691310872,\n",
       " (3, 8): 0.56279014227692226,\n",
       " (4, 9): 0.36874117889828839,\n",
       " (4, 10): 0.55419650220619188,\n",
       " (5, 11): 0.58493370582539306,\n",
       " (5, 12): 0.50402896483830595,\n",
       " (6, 13): 0.46523858244015337,\n",
       " (6, 14): 0.52938881276292216,\n",
       " (7, 15): 0.55544043184744341,\n",
       " (7, 16): 0.50869918952264659,\n",
       " (8, 17): 0.33428303739739612,\n",
       " (8, 18): 0.58599245445664627,\n",
       " (9, 19): 0.63078287326325422,\n",
       " (9, 20): 0.3184203643073189,\n",
       " (10, 21): 0.59780189666222772,\n",
       " (10, 22): 0.48804059181466608,\n",
       " (11, 23): 0.42613509659504106,\n",
       " (11, 24): 0.5472276349195393,\n",
       " (12, 25): 0.37427193895008032,\n",
       " (12, 26): 0.41460317657249146,\n",
       " (13, 27): 0.63481857773695305,\n",
       " (13, 28): 0.48583439160393038,\n",
       " (14, 29): 0.66350201693173305,\n",
       " (14, 30): 0.52049956304032863}"
      ]
     },
     "execution_count": 5,
     "metadata": {},
     "output_type": "execute_result"
    }
   ],
   "source": [
    "nx.get_edge_attributes(G, 'alpha')"
   ]
  },
  {
   "cell_type": "code",
   "execution_count": 6,
   "metadata": {
    "collapsed": false
   },
   "outputs": [
    {
     "data": {
      "text/plain": [
       "{(0, 1): 0.72009912810188959,\n",
       " (0, 2): 0.73806745272503405,\n",
       " (1, 3): 0.50062700413617145,\n",
       " (1, 4): 0.52793316077724783,\n",
       " (2, 5): 0.48242687176044707,\n",
       " (2, 6): 0.48665302054035819,\n",
       " (3, 7): 0.24980848447660908,\n",
       " (3, 8): 0.37618993635145709,\n",
       " (4, 9): 0.32922056967790919,\n",
       " (4, 10): 0.34299869126943816,\n",
       " (5, 11): 0.27736506493918434,\n",
       " (5, 12): 0.35633735721463983,\n",
       " (6, 13): 0.34792953534090881,\n",
       " (6, 14): 0.41843007576670727,\n",
       " (7, 15): 0.17881861913819222,\n",
       " (7, 16): 0.15191409522071028,\n",
       " (8, 17): 0.10607160272202143,\n",
       " (8, 18): 0.20360823497192126,\n",
       " (9, 19): 0.051966726469359403,\n",
       " (9, 20): 0.1655042621122913,\n",
       " (10, 21): 0.20919174057820328,\n",
       " (10, 22): 0.23413181182796527,\n",
       " (11, 23): 0.1225467497292895,\n",
       " (11, 24): 0.22490035100103525,\n",
       " (12, 25): 0.12138733280715658,\n",
       " (12, 26): 0.1980421620092187,\n",
       " (13, 27): 0.16194961589312903,\n",
       " (13, 28): 0.20738151287471263,\n",
       " (14, 29): 0.19401950583909378,\n",
       " (14, 30): 0.27514822833655789}"
      ]
     },
     "execution_count": 6,
     "metadata": {},
     "output_type": "execute_result"
    }
   ],
   "source": [
    "nx.get_edge_attributes(G, 'H')"
   ]
  },
  {
   "cell_type": "code",
   "execution_count": 7,
   "metadata": {
    "collapsed": false
   },
   "outputs": [
    {
     "name": "stdout",
     "output_type": "stream",
     "text": [
      "## (0, 1) -1\n",
      "processed_info -0.134906206837 delta 1\n",
      "Flipping\n",
      "current_alpha 0.585192921265 new_alpha 0.536571932747\n",
      "## (0, 2) -1\n",
      "processed_info -0.249766361351 delta 1\n",
      "Flipping\n",
      "current_alpha 0.488301091375 new_alpha 0.437227082832\n",
      "## (1, 3) 1\n",
      "processed_info 0.908219436125 delta 1\n",
      "Flipping\n",
      "current_alpha 0.407592431989 new_alpha 0.358137579156\n",
      "## (1, 4) 1\n",
      "processed_info 0.979851889761 delta 1\n",
      "Flipping\n",
      "current_alpha 0.451918728984 new_alpha 0.401981490385\n",
      "## (2, 5) 1\n",
      "processed_info 1.0245840688 delta 1\n",
      "Keeping\n",
      "current_alpha 0.542157197043 new_alpha 0.592980737061\n",
      "## (2, 6) 1\n",
      "processed_info 0.816872450228 delta 1\n",
      "Flipping\n",
      "current_alpha 0.330219429688 new_alpha 0.279737594453\n",
      "## (3, 8) -1\n",
      "processed_info 0.186600205925 delta 1\n",
      "Flipping\n",
      "current_alpha 0.562790142277 new_alpha 0.511675259761\n",
      "## (3, 7) -1\n",
      "processed_info 0.367361472436 delta 1\n",
      "Flipping\n",
      "current_alpha 0.617169956913 new_alpha 0.568129735512\n",
      "## (4, 9) -1\n",
      "processed_info 0.0395206092204 delta 1\n",
      "Flipping\n",
      "current_alpha 0.368741178898 new_alpha 0.318857204459\n",
      "## (4, 10) -1\n",
      "processed_info 0.211197810937 delta 1\n",
      "Flipping\n",
      "current_alpha 0.554196502206 new_alpha 0.50378024812\n",
      "## (5, 11) 1\n",
      "processed_info 0.862298770765 delta 1\n",
      "Flipping\n",
      "current_alpha 0.584933705825 new_alpha 0.534391392619\n",
      "## (5, 12) 1\n",
      "processed_info 0.860366322053 delta 1\n",
      "Flipping\n",
      "current_alpha 0.504028964838 new_alpha 0.453806339213\n",
      "## (6, 13) -1\n",
      "processed_info 0.117309047099 delta 1\n",
      "Flipping\n",
      "current_alpha 0.46523858244 new_alpha 0.414384119743\n",
      "## (6, 14) -1\n",
      "processed_info 0.110958736996 delta 1\n",
      "Flipping\n",
      "current_alpha 0.529388812763 new_alpha 0.48055862853\n",
      "## (8, 17) 1\n",
      "processed_info 0.440354640119 delta 1\n",
      "Flipping\n",
      "current_alpha 0.334283037397 new_alpha 0.28511609916\n",
      "## (8, 18) 1\n",
      "processed_info 0.789600689429 delta 1\n",
      "Flipping\n",
      "current_alpha 0.585992454457 new_alpha 0.534549287512\n",
      "## (7, 16) 1\n",
      "processed_info 0.660613284743 delta 1\n",
      "Flipping\n",
      "current_alpha 0.508699189523 new_alpha 0.458168818802\n",
      "## (7, 15) 1\n",
      "processed_info 0.734259050986 delta 1\n",
      "Flipping\n",
      "current_alpha 0.555440431847 new_alpha 0.505500387528\n",
      "## (9, 19) 1\n",
      "processed_info 0.682749599733 delta 1\n",
      "Flipping\n",
      "current_alpha 0.630782873263 new_alpha 0.579219845224\n",
      "## (9, 20) 1\n",
      "processed_info 0.48392462642 delta 1\n",
      "Flipping\n",
      "current_alpha 0.318420364307 new_alpha 0.265555713589\n",
      "## (10, 21) 1\n",
      "processed_info 0.80699363724 delta 1\n",
      "Flipping\n",
      "current_alpha 0.597801896662 new_alpha 0.547754133848\n",
      "## (10, 22) 1\n",
      "processed_info 0.722172403643 delta 1\n",
      "Flipping\n",
      "current_alpha 0.488040591815 new_alpha 0.438212033533\n",
      "## (11, 24) -1\n",
      "processed_info 0.322327283919 delta 1\n",
      "Flipping\n",
      "current_alpha 0.54722763492 new_alpha 0.498147567028\n",
      "## (11, 23) -1\n",
      "processed_info 0.303588346866 delta 1\n",
      "Flipping\n",
      "current_alpha 0.426135096595 new_alpha 0.376661149804\n",
      "## (12, 25) -1\n",
      "processed_info 0.252884606143 delta 1\n",
      "Flipping\n",
      "current_alpha 0.37427193895 new_alpha 0.325197903364\n",
      "## (12, 26) -1\n",
      "processed_info 0.216561014563 delta 1\n",
      "Flipping\n",
      "current_alpha 0.414603176572 new_alpha 0.363838659401\n",
      "## (13, 27) 1\n",
      "processed_info 0.79676819363 delta 1\n",
      "Flipping\n",
      "current_alpha 0.634818577737 new_alpha 0.585117196483\n",
      "## (13, 28) 1\n",
      "processed_info 0.693215904479 delta 1\n",
      "Flipping\n",
      "current_alpha 0.485834391604 new_alpha 0.435433442394\n",
      "## (14, 29) 1\n",
      "processed_info 0.857521522771 delta 1\n",
      "Flipping\n",
      "current_alpha 0.663502016932 new_alpha 0.614076814246\n",
      "## (14, 30) 1\n",
      "processed_info 0.795647791377 delta 1\n",
      "Flipping\n",
      "current_alpha 0.52049956304 new_alpha 0.47025141694\n",
      "bad\n"
     ]
    }
   ],
   "source": [
    "## Order can be -1 or 1\n",
    "flips = {1:-1, -1:1}\n",
    "order = -1\n",
    "delta = 1 ## The higher the delta the more skeptical we are\n",
    "root_node = 0\n",
    "bits = dict()\n",
    "bits[root_node] = order\n",
    "count_flip_keep = dict()\n",
    "count_flip_keep['flip'] = 0\n",
    "count_flip_keep['keep'] = 0\n",
    "\n",
    "for edge in list(nx.bfs_edges(G ,root_node)):\n",
    "    source_node = edge[0]\n",
    "    target_node = edge[1]\n",
    "    source_bit = bits[source_node]\n",
    "    print \"##\", edge, source_bit\n",
    "    current_alpha = G[source_node][target_node]['alpha']\n",
    "    current_info = G[source_node][target_node]['H']\n",
    "    processed_info = current_alpha + current_info * source_bit\n",
    "    print \"processed_info\", processed_info, \"delta\", delta\n",
    "    if processed_info >= delta:\n",
    "        ## Keeping\n",
    "        print \"Keeping\"\n",
    "        processed_bit = source_bit\n",
    "        new_alpha = current_alpha + sample_change_in_alpha(mean_change_in_alpha, sd_change_in_alpha)\n",
    "        if new_alpha > 1:\n",
    "            new_alpha = 1\n",
    "        elif new_alpha < 0:\n",
    "            new_alpha = 0\n",
    "        G[source_node][target_node]['alpha'] = new_alpha\n",
    "        count_flip_keep['keep'] += 1\n",
    "    else:\n",
    "        ## Flipping\n",
    "        print \"Flipping\"\n",
    "        processed_bit = flips[source_bit]\n",
    "        new_alpha = current_alpha - sample_change_in_alpha(mean_change_in_alpha, sd_change_in_alpha)\n",
    "        if new_alpha > 1:\n",
    "            new_alpha = 1\n",
    "        elif new_alpha < 0:\n",
    "            new_alpha = 0\n",
    "        G[source_node][target_node]['alpha'] = new_alpha\n",
    "        count_flip_keep['flip'] += 1\n",
    "    bits[target_node] = processed_bit\n",
    "    print \"current_alpha\", current_alpha, \"new_alpha\", new_alpha\n",
    "\n",
    "## We are counting the overall outcome in the whole system\n",
    "## We need the good outcomes to be greater than bad outcomes to \n",
    "## make it a collective good outcome\n",
    "collective_outcome = \"\"\n",
    "\n",
    "if Counter(bits.values())[1] > Counter(bits.values())[-1]:\n",
    "    collective_outcome = \"good\"\n",
    "else:\n",
    "    collective_outcome = \"bad\"\n",
    "    \n",
    "print collective_outcome"
   ]
  },
  {
   "cell_type": "code",
   "execution_count": 15,
   "metadata": {
    "collapsed": false
   },
   "outputs": [
    {
     "name": "stdout",
     "output_type": "stream",
     "text": [
      "{0: -1, 1: 1, 2: 1, 3: -1, 4: -1, 5: 1, 6: -1, 7: 1, 8: 1, 9: 1, 10: 1, 11: -1, 12: -1, 13: 1, 14: 1, 15: -1, 16: -1, 17: -1, 18: -1, 19: -1, 20: -1, 21: -1, 22: -1, 23: 1, 24: 1, 25: 1, 26: 1, 27: -1, 28: -1, 29: -1, 30: -1}\n"
     ]
    }
   ],
   "source": [
    "print bits"
   ]
  },
  {
   "cell_type": "code",
   "execution_count": 16,
   "metadata": {
    "collapsed": false
   },
   "outputs": [
    {
     "name": "stdout",
     "output_type": "stream",
     "text": [
      "{'flip': 29, 'keep': 1}\n"
     ]
    }
   ],
   "source": [
    "print count_flip_keep"
   ]
  },
  {
   "cell_type": "code",
   "execution_count": 17,
   "metadata": {
    "collapsed": false
   },
   "outputs": [
    {
     "data": {
      "text/plain": [
       "Counter({-1: 18, 1: 13})"
      ]
     },
     "execution_count": 17,
     "metadata": {},
     "output_type": "execute_result"
    }
   ],
   "source": [
    "Counter(bits.values())"
   ]
  },
  {
   "cell_type": "code",
   "execution_count": 11,
   "metadata": {
    "collapsed": false
   },
   "outputs": [
    {
     "name": "stdout",
     "output_type": "stream",
     "text": [
      "(0, 1)\n",
      "(0, 2)\n",
      "(1, 3)\n",
      "(1, 4)\n",
      "(2, 5)\n",
      "(2, 6)\n",
      "(3, 8)\n",
      "(3, 7)\n",
      "(4, 9)\n",
      "(4, 10)\n",
      "(5, 11)\n",
      "(5, 12)\n",
      "(6, 13)\n",
      "(6, 14)\n",
      "(7, 16)\n",
      "(7, 15)\n",
      "(8, 17)\n",
      "(8, 18)\n",
      "(9, 19)\n",
      "(9, 20)\n",
      "(10, 21)\n",
      "(10, 22)\n",
      "(11, 24)\n",
      "(11, 23)\n",
      "(12, 25)\n",
      "(12, 26)\n",
      "(13, 27)\n",
      "(13, 28)\n",
      "(14, 29)\n",
      "(14, 30)\n",
      "{(1, 3): (0.4, 0.5), (14, 30): (0.5, 0.3), (11, 23): (0.4, 0.1), (10, 21): (0.5, 0.2), (7, 16): (0.5, 0.2), (11, 24): (0.5, 0.2), (3, 7): (0.6, 0.2), (2, 5): (0.6, 0.5), (6, 14): (0.5, 0.4), (4, 9): (0.3, 0.3), (7, 15): (0.5, 0.2), (5, 12): (0.5, 0.4), (10, 22): (0.4, 0.2), (4, 10): (0.5, 0.3), (2, 6): (0.3, 0.5), (9, 20): (0.3, 0.2), (5, 11): (0.5, 0.3), (12, 25): (0.3, 0.1), (1, 4): (0.4, 0.5), (13, 28): (0.4, 0.2), (8, 17): (0.3, 0.1), (14, 29): (0.6, 0.2), (0, 1): (0.5, 0.7), (12, 26): (0.4, 0.2), (13, 27): (0.6, 0.2), (3, 8): (0.5, 0.4), (8, 18): (0.5, 0.2), (6, 13): (0.4, 0.3), (9, 19): (0.6, 0.1), (0, 2): (0.4, 0.7)}\n"
     ]
    }
   ],
   "source": [
    "labels = dict()\n",
    "alphas = nx.get_edge_attributes(G, 'alpha')\n",
    "Hs = nx.get_edge_attributes(G, 'H')\n",
    "for key in G.edges():\n",
    "    print key\n",
    "    current_alpha = round(alphas[key], 1)\n",
    "    current_H = round(Hs[key], 1)\n",
    "    labels[key] = (current_alpha, current_H)\n",
    "print labels"
   ]
  },
  {
   "cell_type": "code",
   "execution_count": 12,
   "metadata": {
    "collapsed": false
   },
   "outputs": [
    {
     "name": "stdout",
     "output_type": "stream",
     "text": [
      "{(1, 3): (0.4, 0.5), (14, 30): (0.5, 0.3), (11, 23): (0.4, 0.1), (10, 21): (0.5, 0.2), (7, 16): (0.5, 0.2), (11, 24): (0.5, 0.2), (3, 7): (0.6, 0.2), (2, 5): (0.6, 0.5), (6, 14): (0.5, 0.4), (4, 9): (0.3, 0.3), (7, 15): (0.5, 0.2), (5, 12): (0.5, 0.4), (10, 22): (0.4, 0.2), (4, 10): (0.5, 0.3), (2, 6): (0.3, 0.5), (9, 20): (0.3, 0.2), (5, 11): (0.5, 0.3), (12, 25): (0.3, 0.1), (1, 4): (0.4, 0.5), (13, 28): (0.4, 0.2), (8, 17): (0.3, 0.1), (14, 29): (0.6, 0.2), (0, 1): (0.5, 0.7), (12, 26): (0.4, 0.2), (13, 27): (0.6, 0.2), (3, 8): (0.5, 0.4), (8, 18): (0.5, 0.2), (6, 13): (0.4, 0.3), (9, 19): (0.6, 0.1), (0, 2): (0.4, 0.7)}\n"
     ]
    }
   ],
   "source": [
    "labels = dict()\n",
    "alphas = nx.get_edge_attributes(G, 'alpha')\n",
    "Hs = nx.get_edge_attributes(G, 'H')\n",
    "for key in G.edges():\n",
    "    #print key\n",
    "    current_alpha = round(alphas[key], 1)\n",
    "    current_H = round(Hs[key], 1)\n",
    "    labels[key] = (current_alpha, current_H)\n",
    "print labels"
   ]
  },
  {
   "cell_type": "code",
   "execution_count": 13,
   "metadata": {
    "collapsed": false
   },
   "outputs": [
    {
     "data": {
      "image/png": "[encoded data removed]",
      "text/plain": [
       "<matplotlib.figure.Figure at 0x109dd9750>"
      ]
     },
     "metadata": {},
     "output_type": "display_data"
    }
   ],
   "source": [
    "plt.figure(figsize=(12,10))\n",
    "pos=nx.nx_pydot.graphviz_layout(G,prog='dot')\n",
    "nx.draw_networkx_edge_labels(G,pos=nx.nx_pydot.graphviz_layout(G,prog='dot'), edge_labels = labels)\n",
    "nx.draw(G,pos,with_labels=True,arrows=True)"
   ]
  },
  {
   "cell_type": "code",
   "execution_count": 14,
   "metadata": {
    "collapsed": false
   },
   "outputs": [
    {
     "data": {
      "text/plain": [
       "{(0, 1): (0.0, 0.9),\n",
       " (0, 2): (0.5, 0.9),\n",
       " (1, 3): (0.7, 0.7),\n",
       " (1, 4): (0.7, 0.7),\n",
       " (2, 5): (0.9, 0.8),\n",
       " (2, 6): (0.3, 0.6)}"
      ]
     },
     "execution_count": 14,
     "metadata": {},
     "output_type": "execute_result"
    }
   ],
   "source": [
    "{(0, 1): (0., 0.9), (1, 3): (0.7, 0.7), (1, 4): (0.7, 0.7), (2, 6): (0.3, 0.6), (2, 5): (0.9, 0.8), (0, 2): (0.5, 0.9)}"
   ]
  }
 ],
 "metadata": {
  "kernelspec": {
   "display_name": "Python 2",
   "language": "python",
   "name": "python2"
  },
  "language_info": {
   "codemirror_mode": {
    "name": "ipython",
    "version": 2
   },
   "file_extension": ".py",
   "mimetype": "text/x-python",
   "name": "python",
   "nbconvert_exporter": "python",
   "pygments_lexer": "ipython2",
   "version": "2.7.11"
  }
 },
 "nbformat": 4,
 "nbformat_minor": 0
}
