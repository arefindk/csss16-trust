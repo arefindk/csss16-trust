{
 "cells": [
  {
   "cell_type": "code",
   "execution_count": 1,
   "metadata": {
    "collapsed": false
   },
   "outputs": [],
   "source": [
    "import numpy as np\n",
    "import networkx as nx\n",
    "import matplotlib.pyplot as plt\n",
    "from collections import defaultdict\n",
    "from collections import Counter\n",
    "import scipy.stats as stats\n",
    "%matplotlib inline"
   ]
  },
  {
   "cell_type": "markdown",
   "metadata": {},
   "source": [
    "The amount of information is going to be less as the position in the hierarchy increases. And the amount of trust could be random throughout the network."
   ]
  },
  {
   "cell_type": "code",
   "execution_count": 2,
   "metadata": {
    "collapsed": false
   },
   "outputs": [
    {
     "data": {
      "image/png": "[encoded data removed]",
      "text/plain": [
       "<matplotlib.figure.Figure at 0x109b38fd0>"
      ]
     },
     "metadata": {},
     "output_type": "display_data"
    }
   ],
   "source": [
    "num_levels = 5\n",
    "num_subordinates = 2\n",
    "G = nx.DiGraph()\n",
    "G.add_node(0)\n",
    "i = 1\n",
    "leaf_nodes_last_level = [0]\n",
    "nodes_in_levels = defaultdict(list)\n",
    "nodes_in_levels[0] = [0]\n",
    "levels_of_nodes = dict()\n",
    "levels_of_nodes[0] = 0\n",
    "\n",
    "for i in range(1, num_levels):\n",
    "    #print i, pow(2,i)\n",
    "    num_nodes_this_level = pow(2,i)\n",
    "    possible_subordinates = range(G.number_of_nodes(), G.number_of_nodes()+ num_nodes_this_level )\n",
    "    leaf_nodes_next_level = list(possible_subordinates)\n",
    "    #print \"possible subordinates\", possible_subordinates\n",
    "\n",
    "    while len(leaf_nodes_last_level) > 0:\n",
    "        current_supervisor = leaf_nodes_last_level.pop(0)\n",
    "        #print \"after popping\", leaf_nodes_last_level\n",
    "        #print \"##current supervisor\", current_supervisor\n",
    "        for j in range(num_subordinates):\n",
    "            current_subordinate = possible_subordinates.pop(0)\n",
    "            #print \"####current subordinate\", current_subordinate\n",
    "            G.add_edge(current_supervisor, current_subordinate)\n",
    "            #print \"i\", i\n",
    "            nodes_in_levels[i].append(current_subordinate)\n",
    "            levels_of_nodes[current_subordinate] = i\n",
    "    leaf_nodes_last_level = list(leaf_nodes_next_level)\n",
    "        \n",
    "# pos = hierarchy_pos(btree2, 0)\n",
    "#nx.draw(btree2,pos=nx.draw_networkx(btree2),with_labels=True,arrows=True)\n",
    "pos=nx.nx_pydot.graphviz_layout(G,prog='dot')\n",
    "nx.draw(G,pos,with_labels=True,arrows=True)"
   ]
  },
  {
   "cell_type": "markdown",
   "metadata": {},
   "source": [
    "Our first assumption is that the deeper the level the less the initial information $H$ in the node. And we will distribute the initial $\\alpha$ value distributed randomly using a lognormal distributions with parameter $\\mu$ and $\\sigma$"
   ]
  },
  {
   "cell_type": "code",
   "execution_count": 3,
   "metadata": {
    "collapsed": false
   },
   "outputs": [],
   "source": [
    "def sample_h(level, mean_info = 0.7, sd_info = 0.05, dmu = 0.1, constant = False):\n",
    "    if constant == False:\n",
    "        ## the distribution will be Truncated between 0 and 1\n",
    "        lower, upper = 0, 1\n",
    "        ## The distribution\n",
    "        mu = mean_info - (dmu * (level-1))\n",
    "        sigma = sd_info\n",
    "        X = stats.truncnorm((lower - mu) / sigma, (upper - mu) / sigma, loc=mu, scale=sigma)\n",
    "        s = X.rvs(1)[0]\n",
    "        return s\n",
    "    else:\n",
    "        return mean_info\n",
    "\n",
    "def sample_alpha(mu = 0.5, sigma = 0.1, constant = False):\n",
    "    if constant == False:\n",
    "        ## the distribution will be Truncated between 0 and 1\n",
    "        lower, upper = 0, 1\n",
    "        ## The distribution\n",
    "        X = stats.truncnorm((lower - mu) / sigma, (upper - mu) / sigma, loc=mu, scale=sigma)\n",
    "        s = X.rvs(1)[0]\n",
    "        return s\n",
    "    else:\n",
    "        return mu\n",
    "\n",
    "def sample_change_in_alpha(mu = 0.1, sigma = 0.01, constant = False):\n",
    "    if constant == False:\n",
    "        ## the distribution will be Truncated between 0 and 1\n",
    "        lower, upper = 0, 1\n",
    "        ## The distribution\n",
    "        X = stats.truncnorm((lower - mu) / sigma, (upper - mu) / sigma, loc=mu, scale=sigma)\n",
    "        s = X.rvs(1)[0]\n",
    "        return s\n",
    "    else:\n",
    "        return mu"
   ]
  },
  {
   "cell_type": "markdown",
   "metadata": {},
   "source": [
    "We do not have any problem assigning H in node 0 as there is no edge pointing towards him. So for mu, dmu * (level -1 ) is not a problem."
   ]
  },
  {
   "cell_type": "code",
   "execution_count": 4,
   "metadata": {
    "collapsed": false
   },
   "outputs": [],
   "source": [
    "mean_trust = 0.5\n",
    "sd_trust = 0.1\n",
    "mean_info_higehst_level = 0.7\n",
    "dmu_each_level = mean_info_higehst_level / (num_levels - 1)\n",
    "mean_change_in_alpha = 0.05\n",
    "sd_change_in_alpha = 0.001\n",
    "\n",
    "for edge in G.edges():\n",
    "    subordinate_node = edge[1]\n",
    "    current_h = sample_h(levels_of_nodes[subordinate_node], mean_info = mean_info_higehst_level, dmu = dmu_each_level)\n",
    "    current_alpha = sample_alpha(mean_trust, sd_trust)\n",
    "    G[edge[0]][edge[1]]['H'] = current_h\n",
    "    G[edge[0]][edge[1]]['alpha'] = current_alpha\n",
    "    "
   ]
  },
  {
   "cell_type": "code",
   "execution_count": 5,
   "metadata": {
    "collapsed": false
   },
   "outputs": [
    {
     "data": {
      "text/plain": [
       "{(0, 1): 0.55635569456879053,\n",
       " (0, 2): 0.3402548161911666,\n",
       " (1, 3): 0.49288972821676746,\n",
       " (1, 4): 0.4303490396619431,\n",
       " (2, 5): 0.54271293030448065,\n",
       " (2, 6): 0.42492328398173757,\n",
       " (3, 7): 0.40978159766868155,\n",
       " (3, 8): 0.61350031494115986,\n",
       " (4, 9): 0.43847887452772277,\n",
       " (4, 10): 0.42114255467907585,\n",
       " (5, 11): 0.61723425543011989,\n",
       " (5, 12): 0.5483466750113013,\n",
       " (6, 13): 0.4394283117896603,\n",
       " (6, 14): 0.62299273617949391,\n",
       " (7, 15): 0.55782922675730739,\n",
       " (7, 16): 0.38994131916703367,\n",
       " (8, 17): 0.55275360114697869,\n",
       " (8, 18): 0.77769697587516706,\n",
       " (9, 19): 0.73399304475608829,\n",
       " (9, 20): 0.50759936116696269,\n",
       " (10, 21): 0.39179197560593981,\n",
       " (10, 22): 0.33350580265965724,\n",
       " (11, 23): 0.40822644720838802,\n",
       " (11, 24): 0.50077472378935584,\n",
       " (12, 25): 0.58478995986336857,\n",
       " (12, 26): 0.59841702625904258,\n",
       " (13, 27): 0.49529990776885252,\n",
       " (13, 28): 0.44558919080321513,\n",
       " (14, 29): 0.5127478014507264,\n",
       " (14, 30): 0.51749790749636626}"
      ]
     },
     "execution_count": 5,
     "metadata": {},
     "output_type": "execute_result"
    }
   ],
   "source": [
    "nx.get_edge_attributes(G, 'alpha')"
   ]
  },
  {
   "cell_type": "code",
   "execution_count": 6,
   "metadata": {
    "collapsed": false
   },
   "outputs": [
    {
     "data": {
      "text/plain": [
       "{(0, 1): 0.6656268535167289,\n",
       " (0, 2): 0.6637143760052906,\n",
       " (1, 3): 0.52898534091462723,\n",
       " (1, 4): 0.50819745172530439,\n",
       " (2, 5): 0.48618901188179819,\n",
       " (2, 6): 0.4871036251856169,\n",
       " (3, 7): 0.34717675187493952,\n",
       " (3, 8): 0.38768987606673189,\n",
       " (4, 9): 0.35696217090523952,\n",
       " (4, 10): 0.35258376991961021,\n",
       " (5, 11): 0.37651841426922206,\n",
       " (5, 12): 0.44709496339048643,\n",
       " (6, 13): 0.36478492296727699,\n",
       " (6, 14): 0.28560917876701236,\n",
       " (7, 15): 0.090341685232068147,\n",
       " (7, 16): 0.18438564021716716,\n",
       " (8, 17): 0.22399569115469511,\n",
       " (8, 18): 0.18248788135826832,\n",
       " (9, 19): 0.073498688669581064,\n",
       " (9, 20): 0.16227215528362063,\n",
       " (10, 21): 0.06015197111352337,\n",
       " (10, 22): 0.17039353494631587,\n",
       " (11, 23): 0.17534330084412414,\n",
       " (11, 24): 0.23942356936975862,\n",
       " (12, 25): 0.18314977337226102,\n",
       " (12, 26): 0.16077571965033816,\n",
       " (13, 27): 0.28018492125996342,\n",
       " (13, 28): 0.12540678294123878,\n",
       " (14, 29): 0.16423123295325298,\n",
       " (14, 30): 0.16728724219563032}"
      ]
     },
     "execution_count": 6,
     "metadata": {},
     "output_type": "execute_result"
    }
   ],
   "source": [
    "nx.get_edge_attributes(G, 'H')"
   ]
  },
  {
   "cell_type": "code",
   "execution_count": 7,
   "metadata": {
    "collapsed": false
   },
   "outputs": [
    {
     "name": "stdout",
     "output_type": "stream",
     "text": [
      "## (0, 1) -1\n",
      "processed_info -0.109271158948 delta 1\n",
      "Flipping\n",
      "## (0, 2) -1\n",
      "processed_info -0.323459559814 delta 1\n",
      "Flipping\n",
      "## (1, 3) 1\n",
      "processed_info 1.02187506913 delta 1\n",
      "Keeping\n",
      "## (1, 4) 1\n",
      "processed_info 0.938546491387 delta 1\n",
      "Flipping\n",
      "## (2, 5) 1\n",
      "processed_info 1.02890194219 delta 1\n",
      "Keeping\n",
      "## (2, 6) 1\n",
      "processed_info 0.912026909167 delta 1\n",
      "Flipping\n",
      "## (3, 8) 1\n",
      "processed_info 1.00119019101 delta 1\n",
      "Keeping\n",
      "## (3, 7) 1\n",
      "processed_info 0.756958349544 delta 1\n",
      "Flipping\n",
      "## (4, 9) -1\n",
      "processed_info 0.0815167036225 delta 1\n",
      "Flipping\n",
      "## (4, 10) -1\n",
      "processed_info 0.0685587847595 delta 1\n",
      "Flipping\n",
      "## (5, 11) 1\n",
      "processed_info 0.993752669699 delta 1\n",
      "Flipping\n",
      "## (5, 12) 1\n",
      "processed_info 0.995441638402 delta 1\n",
      "Flipping\n",
      "## (6, 13) -1\n",
      "processed_info 0.0746433888224 delta 1\n",
      "Flipping\n",
      "## (6, 14) -1\n",
      "processed_info 0.337383557412 delta 1\n",
      "Flipping\n",
      "## (8, 17) 1\n",
      "processed_info 0.776749292302 delta 1\n",
      "Flipping\n",
      "## (8, 18) 1\n",
      "processed_info 0.960184857233 delta 1\n",
      "Flipping\n",
      "## (7, 16) -1\n",
      "processed_info 0.20555567895 delta 1\n",
      "Flipping\n",
      "## (7, 15) -1\n",
      "processed_info 0.467487541525 delta 1\n",
      "Flipping\n",
      "## (9, 19) 1\n",
      "processed_info 0.807491733426 delta 1\n",
      "Flipping\n",
      "## (9, 20) 1\n",
      "processed_info 0.669871516451 delta 1\n",
      "Flipping\n",
      "## (10, 21) 1\n",
      "processed_info 0.451943946719 delta 1\n",
      "Flipping\n",
      "## (10, 22) 1\n",
      "processed_info 0.503899337606 delta 1\n",
      "Flipping\n",
      "## (11, 24) -1\n",
      "processed_info 0.26135115442 delta 1\n",
      "Flipping\n",
      "## (11, 23) -1\n",
      "processed_info 0.232883146364 delta 1\n",
      "Flipping\n",
      "## (12, 25) -1\n",
      "processed_info 0.401640186491 delta 1\n",
      "Flipping\n",
      "## (12, 26) -1\n",
      "processed_info 0.437641306609 delta 1\n",
      "Flipping\n",
      "## (13, 27) 1\n",
      "processed_info 0.775484829029 delta 1\n",
      "Flipping\n",
      "## (13, 28) 1\n",
      "processed_info 0.570995973744 delta 1\n",
      "Flipping\n",
      "## (14, 29) 1\n",
      "processed_info 0.676979034404 delta 1\n",
      "Flipping\n",
      "## (14, 30) 1\n",
      "processed_info 0.684785149692 delta 1\n",
      "Flipping\n",
      "bad\n",
      "{(1, 3): 0.49288972821676746, (14, 30): 0.51749790749636626, (11, 23): 0.40822644720838802, (10, 21): 0.39179197560593981, (7, 16): 0.38994131916703367, (11, 24): 0.50077472378935584, (3, 7): 0.40978159766868155, (2, 5): 0.54271293030448065, (6, 14): 0.62299273617949391, (4, 9): 0.43847887452772277, (7, 15): 0.55782922675730739, (5, 12): 0.5483466750113013, (10, 22): 0.33350580265965724, (4, 10): 0.42114255467907585, (2, 6): 0.42492328398173757, (9, 20): 0.50759936116696269, (5, 11): 0.61723425543011989, (12, 25): 0.58478995986336857, (1, 4): 0.4303490396619431, (13, 28): 0.44558919080321513, (8, 17): 0.55275360114697869, (14, 29): 0.5127478014507264, (0, 1): 0.55635569456879053, (12, 26): 0.59841702625904258, (13, 27): 0.49529990776885252, (3, 8): 0.61350031494115986, (8, 18): 0.77769697587516706, (6, 13): 0.4394283117896603, (9, 19): 0.73399304475608829, (0, 2): 0.3402548161911666}\n"
     ]
    }
   ],
   "source": [
    "## Order can be -1 or 1\n",
    "flips = {1:-1, -1:1}\n",
    "order = -1\n",
    "delta = 1 ## The higher the delta the more skeptical we are\n",
    "root_node = 0\n",
    "bits = dict()\n",
    "bits[root_node] = order\n",
    "flip_keep = dict()\n",
    "\n",
    "for edge in list(nx.bfs_edges(G ,root_node)):\n",
    "    source_node = edge[0]\n",
    "    target_node = edge[1]\n",
    "    source_bit = bits[source_node]\n",
    "    print \"##\", edge, source_bit\n",
    "    current_alpha = G[source_node][target_node]['alpha']\n",
    "    current_info = G[source_node][target_node]['H']\n",
    "    processed_info = current_alpha + current_info * source_bit\n",
    "    print \"processed_info\", processed_info, \"delta\", delta\n",
    "    if processed_info >= delta:\n",
    "        ## Keeping\n",
    "        print \"Keeping\"\n",
    "        processed_bit = source_bit\n",
    "        flip_keep[(source_node,target_node)] = 'keep'\n",
    "    else:\n",
    "        ## Flipping\n",
    "        print \"Flipping\"\n",
    "        processed_bit = flips[source_bit]\n",
    "        flip_keep[(source_node,target_node)] = 'flip'\n",
    "    bits[target_node] = processed_bit\n",
    "    \n",
    "## We are counting the overall outcome in the whole system\n",
    "## We need the good outcomes to be greater than bad outcomes to \n",
    "## make it a collective good outcome\n",
    "collective_outcome = \"\"\n",
    "\n",
    "##  If its a good outcome:\n",
    "##       if I followed my supervisors order, I trust him more\n",
    "##       if I flipped my supervisors order, I trust him less\n",
    "## If its a bad outcome:\n",
    "##       if I followed my supervisors order, I trust him less\n",
    "##       if I flipped my supervisors order, I trust him more \n",
    "##           (you can think of it this way, it is a bad outcome\n",
    "##           and I did not abide by his order, and based on my local \n",
    "##           knowledge, I feel I should have gone with my supervisors\n",
    "##           order)\n",
    "if Counter(bits.values())[1] > Counter(bits.values())[-1]:\n",
    "    collective_outcome = \"good\"\n",
    "    for edge, current_alpha in nx.get_edge_attributes(G, 'alpha').items():\n",
    "        if flip_keep[edge] == \"keep\":\n",
    "        ## It was a good outcome and I listened to my supervisor, so I feel he is a person I can trust more\n",
    "            print edge, current_alpha\n",
    "            new_alpha = current_alpha + sample_change_in_alpha(mean_change_in_alpha, sd_change_in_alpha)\n",
    "            G[edge[0]][edge[1]]['alpha'] = new_alpha\n",
    "        else:\n",
    "        ## It was a good outcome and I did not listen to my supervisor, so I feel he is a person I should trust less, because by not listening to him, I feel that I contributed to the good outcome\n",
    "            print edge, current_alpha\n",
    "            new_alpha = current_alpha - sample_change_in_alpha(mean_change_in_alpha, sd_change_in_alpha)\n",
    "            G[edge[0]][edge[1]]['alpha'] = new_alpha\n",
    "else:\n",
    "    collective_outcome = \"bad\"\n",
    "    for edge, current_alpha in nx.get_edge_attributes(G, 'alpha').items():\n",
    "        if flip_keep[edge] == \"keep\":\n",
    "        ## It was a bad outcome and I listened to my supervisor, and by listening to him I contributed to the disaster, so I feel he is a person I should trust less\n",
    "            print edge, current_alpha\n",
    "            new_alpha = current_alpha - sample_change_in_alpha(mean_change_in_alpha, sd_change_in_alpha)\n",
    "            G[edge[0]][edge[1]]['alpha'] = new_alpha\n",
    "        else:\n",
    "        ## It was a bad outcome and I did not listen to my supervisor, so I feel by listening to him I could have averted the disaster, so I feel I should listen to him/ trust him more.\n",
    "            print edge, current_alpha\n",
    "            new_alpha = current_alpha + sample_change_in_alpha(mean_change_in_alpha, sd_change_in_alpha)\n",
    "            G[edge[0]][edge[1]]['alpha'] = new_alpha\n",
    "\n",
    "\n",
    "print collective_outcome\n",
    "\n",
    "print nx.get_edge_attributes(G, 'alpha')\n",
    "\n",
    "# new_alpha = current_alpha + sample_change_in_alpha(mean_change_in_alpha, sd_change_in_alpha)\n",
    "# if new_alpha > 1:\n",
    "#     new_alpha = 1\n",
    "# elif new_alpha < 0:\n",
    "#     new_alpha = 0\n",
    "# G[source_node][target_node]['alpha'] = new_alpha\n",
    "        "
   ]
  },
  {
   "cell_type": "code",
   "execution_count": 8,
   "metadata": {
    "collapsed": false
   },
   "outputs": [
    {
     "name": "stdout",
     "output_type": "stream",
     "text": [
      "{0: -1, 1: 1, 2: 1, 3: 1, 4: -1, 5: 1, 6: -1, 7: -1, 8: 1, 9: 1, 10: 1, 11: -1, 12: -1, 13: 1, 14: 1, 15: 1, 16: 1, 17: -1, 18: -1, 19: -1, 20: -1, 21: -1, 22: -1, 23: 1, 24: 1, 25: 1, 26: 1, 27: -1, 28: -1, 29: -1, 30: -1}\n"
     ]
    }
   ],
   "source": [
    "print bits"
   ]
  },
  {
   "cell_type": "code",
   "execution_count": 15,
   "metadata": {
    "collapsed": false
   },
   "outputs": [
    {
     "name": "stdout",
     "output_type": "stream",
     "text": [
      "{(1, 3): 'keep', (14, 30): 'flip', (11, 23): 'flip', (10, 21): 'flip', (7, 16): 'flip', (11, 24): 'flip', (3, 7): 'flip', (2, 5): 'keep', (6, 14): 'flip', (4, 9): 'flip', (7, 15): 'flip', (5, 12): 'flip', (10, 22): 'flip', (4, 10): 'flip', (2, 6): 'flip', (9, 20): 'flip', (5, 11): 'flip', (12, 25): 'flip', (1, 4): 'flip', (13, 28): 'flip', (8, 17): 'flip', (14, 29): 'flip', (0, 1): 'flip', (12, 26): 'flip', (13, 27): 'flip', (3, 8): 'keep', (8, 18): 'flip', (6, 13): 'flip', (9, 19): 'flip', (0, 2): 'flip'}\n"
     ]
    }
   ],
   "source": [
    "print flip_keep"
   ]
  },
  {
   "cell_type": "code",
   "execution_count": 9,
   "metadata": {
    "collapsed": false
   },
   "outputs": [
    {
     "name": "stdout",
     "output_type": "stream",
     "text": [
      "Counter({'flip': 27, 'keep': 3})\n"
     ]
    }
   ],
   "source": [
    "print Counter(flip_keep.values())"
   ]
  },
  {
   "cell_type": "code",
   "execution_count": 10,
   "metadata": {
    "collapsed": false
   },
   "outputs": [
    {
     "data": {
      "text/plain": [
       "Counter({-1: 16, 1: 15})"
      ]
     },
     "execution_count": 10,
     "metadata": {},
     "output_type": "execute_result"
    }
   ],
   "source": [
    "Counter(bits.values())"
   ]
  },
  {
   "cell_type": "code",
   "execution_count": 11,
   "metadata": {
    "collapsed": false
   },
   "outputs": [
    {
     "name": "stdout",
     "output_type": "stream",
     "text": [
      "(0, 1)\n",
      "(0, 2)\n",
      "(1, 3)\n",
      "(1, 4)\n",
      "(2, 5)\n",
      "(2, 6)\n",
      "(3, 8)\n",
      "(3, 7)\n",
      "(4, 9)\n",
      "(4, 10)\n",
      "(5, 11)\n",
      "(5, 12)\n",
      "(6, 13)\n",
      "(6, 14)\n",
      "(7, 16)\n",
      "(7, 15)\n",
      "(8, 17)\n",
      "(8, 18)\n",
      "(9, 19)\n",
      "(9, 20)\n",
      "(10, 21)\n",
      "(10, 22)\n",
      "(11, 24)\n",
      "(11, 23)\n",
      "(12, 25)\n",
      "(12, 26)\n",
      "(13, 27)\n",
      "(13, 28)\n",
      "(14, 29)\n",
      "(14, 30)\n",
      "{(1, 3): (0.5, 0.5), (14, 30): (0.5, 0.2), (11, 23): (0.4, 0.2), (10, 21): (0.4, 0.1), (7, 16): (0.4, 0.2), (11, 24): (0.5, 0.2), (3, 7): (0.4, 0.3), (2, 5): (0.5, 0.5), (6, 14): (0.6, 0.3), (4, 9): (0.4, 0.4), (7, 15): (0.6, 0.1), (5, 12): (0.5, 0.4), (10, 22): (0.3, 0.2), (4, 10): (0.4, 0.4), (2, 6): (0.4, 0.5), (9, 20): (0.5, 0.2), (5, 11): (0.6, 0.4), (12, 25): (0.6, 0.2), (1, 4): (0.4, 0.5), (13, 28): (0.4, 0.1), (8, 17): (0.6, 0.2), (14, 29): (0.5, 0.2), (0, 1): (0.6, 0.7), (12, 26): (0.6, 0.2), (13, 27): (0.5, 0.3), (3, 8): (0.6, 0.4), (8, 18): (0.8, 0.2), (6, 13): (0.4, 0.4), (9, 19): (0.7, 0.1), (0, 2): (0.3, 0.7)}\n"
     ]
    }
   ],
   "source": [
    "labels = dict()\n",
    "alphas = nx.get_edge_attributes(G, 'alpha')\n",
    "Hs = nx.get_edge_attributes(G, 'H')\n",
    "for key in G.edges():\n",
    "    print key\n",
    "    current_alpha = round(alphas[key], 1)\n",
    "    current_H = round(Hs[key], 1)\n",
    "    labels[key] = (current_alpha, current_H)\n",
    "print labels"
   ]
  },
  {
   "cell_type": "code",
   "execution_count": 12,
   "metadata": {
    "collapsed": false
   },
   "outputs": [
    {
     "name": "stdout",
     "output_type": "stream",
     "text": [
      "{(1, 3): (0.5, 0.5), (14, 30): (0.5, 0.2), (11, 23): (0.4, 0.2), (10, 21): (0.4, 0.1), (7, 16): (0.4, 0.2), (11, 24): (0.5, 0.2), (3, 7): (0.4, 0.3), (2, 5): (0.5, 0.5), (6, 14): (0.6, 0.3), (4, 9): (0.4, 0.4), (7, 15): (0.6, 0.1), (5, 12): (0.5, 0.4), (10, 22): (0.3, 0.2), (4, 10): (0.4, 0.4), (2, 6): (0.4, 0.5), (9, 20): (0.5, 0.2), (5, 11): (0.6, 0.4), (12, 25): (0.6, 0.2), (1, 4): (0.4, 0.5), (13, 28): (0.4, 0.1), (8, 17): (0.6, 0.2), (14, 29): (0.5, 0.2), (0, 1): (0.6, 0.7), (12, 26): (0.6, 0.2), (13, 27): (0.5, 0.3), (3, 8): (0.6, 0.4), (8, 18): (0.8, 0.2), (6, 13): (0.4, 0.4), (9, 19): (0.7, 0.1), (0, 2): (0.3, 0.7)}\n"
     ]
    }
   ],
   "source": [
    "labels = dict()\n",
    "alphas = nx.get_edge_attributes(G, 'alpha')\n",
    "Hs = nx.get_edge_attributes(G, 'H')\n",
    "for key in G.edges():\n",
    "    #print key\n",
    "    current_alpha = round(alphas[key], 1)\n",
    "    current_H = round(Hs[key], 1)\n",
    "    labels[key] = (current_alpha, current_H)\n",
    "print labels"
   ]
  },
  {
   "cell_type": "code",
   "execution_count": 13,
   "metadata": {
    "collapsed": false
   },
   "outputs": [
    {
     "data": {
      "image/png": "[encoded data removed]",
      "text/plain": [
       "<matplotlib.figure.Figure at 0x109bb7f50>"
      ]
     },
     "metadata": {},
     "output_type": "display_data"
    }
   ],
   "source": [
    "plt.figure(figsize=(12,10))\n",
    "pos=nx.nx_pydot.graphviz_layout(G,prog='dot')\n",
    "nx.draw_networkx_edge_labels(G,pos=nx.nx_pydot.graphviz_layout(G,prog='dot'), edge_labels = labels)\n",
    "nx.draw(G,pos,with_labels=True,arrows=True)"
   ]
  },
  {
   "cell_type": "code",
   "execution_count": 14,
   "metadata": {
    "collapsed": false
   },
   "outputs": [
    {
     "data": {
      "text/plain": [
       "{(0, 1): (0.0, 0.9),\n",
       " (0, 2): (0.5, 0.9),\n",
       " (1, 3): (0.7, 0.7),\n",
       " (1, 4): (0.7, 0.7),\n",
       " (2, 5): (0.9, 0.8),\n",
       " (2, 6): (0.3, 0.6)}"
      ]
     },
     "execution_count": 14,
     "metadata": {},
     "output_type": "execute_result"
    }
   ],
   "source": [
    "{(0, 1): (0., 0.9), (1, 3): (0.7, 0.7), (1, 4): (0.7, 0.7), (2, 6): (0.3, 0.6), (2, 5): (0.9, 0.8), (0, 2): (0.5, 0.9)}"
   ]
  }
 ],
 "metadata": {
  "kernelspec": {
   "display_name": "Python 2",
   "language": "python",
   "name": "python2"
  },
  "language_info": {
   "codemirror_mode": {
    "name": "ipython",
    "version": 2
   },
   "file_extension": ".py",
   "mimetype": "text/x-python",
   "name": "python",
   "nbconvert_exporter": "python",
   "pygments_lexer": "ipython2",
   "version": "2.7.11"
  }
 },
 "nbformat": 4,
 "nbformat_minor": 0
}
