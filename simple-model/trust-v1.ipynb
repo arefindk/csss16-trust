{
 "cells": [
  {
   "cell_type": "code",
   "execution_count": 1,
   "metadata": {
    "collapsed": false
   },
   "outputs": [],
   "source": [
    "import numpy as np\n",
    "import networkx as nx\n",
    "import matplotlib.pyplot as plt\n",
    "from collections import defaultdict\n",
    "from collections import Counter\n",
    "import scipy.stats as stats\n",
    "%matplotlib inline"
   ]
  },
  {
   "cell_type": "markdown",
   "metadata": {},
   "source": [
    "The amount of information is going to be less as the position in the hierarchy increases. And the amount of trust could be random throughout the network."
   ]
  },
  {
   "cell_type": "code",
   "execution_count": 2,
   "metadata": {
    "collapsed": false
   },
   "outputs": [
    {
     "name": "stdout",
     "output_type": "stream",
     "text": [
      "1 2\n",
      "possible subordinates [1, 2]\n",
      "after popping []\n",
      "##current supervisor 0\n",
      "####current subordinate 1\n",
      "i 1\n",
      "####current subordinate 2\n",
      "i 1\n",
      "2 4\n",
      "possible subordinates [3, 4, 5, 6]\n",
      "after popping [2]\n",
      "##current supervisor 1\n",
      "####current subordinate 3\n",
      "i 2\n",
      "####current subordinate 4\n",
      "i 2\n",
      "after popping []\n",
      "##current supervisor 2\n",
      "####current subordinate 5\n",
      "i 2\n",
      "####current subordinate 6\n",
      "i 2\n",
      "3 8\n",
      "possible subordinates [7, 8, 9, 10, 11, 12, 13, 14]\n",
      "after popping [4, 5, 6]\n",
      "##current supervisor 3\n",
      "####current subordinate 7\n",
      "i 3\n",
      "####current subordinate 8\n",
      "i 3\n",
      "after popping [5, 6]\n",
      "##current supervisor 4\n",
      "####current subordinate 9\n",
      "i 3\n",
      "####current subordinate 10\n",
      "i 3\n",
      "after popping [6]\n",
      "##current supervisor 5\n",
      "####current subordinate 11\n",
      "i 3\n",
      "####current subordinate 12\n",
      "i 3\n",
      "after popping []\n",
      "##current supervisor 6\n",
      "####current subordinate 13\n",
      "i 3\n",
      "####current subordinate 14\n",
      "i 3\n",
      "4 16\n",
      "possible subordinates [15, 16, 17, 18, 19, 20, 21, 22, 23, 24, 25, 26, 27, 28, 29, 30]\n",
      "after popping [8, 9, 10, 11, 12, 13, 14]\n",
      "##current supervisor 7\n",
      "####current subordinate 15\n",
      "i 4\n",
      "####current subordinate 16\n",
      "i 4\n",
      "after popping [9, 10, 11, 12, 13, 14]\n",
      "##current supervisor 8\n",
      "####current subordinate 17\n",
      "i 4\n",
      "####current subordinate 18\n",
      "i 4\n",
      "after popping [10, 11, 12, 13, 14]\n",
      "##current supervisor 9\n",
      "####current subordinate 19\n",
      "i 4\n",
      "####current subordinate 20\n",
      "i 4\n",
      "after popping [11, 12, 13, 14]\n",
      "##current supervisor 10\n",
      "####current subordinate 21\n",
      "i 4\n",
      "####current subordinate 22\n",
      "i 4\n",
      "after popping [12, 13, 14]\n",
      "##current supervisor 11\n",
      "####current subordinate 23\n",
      "i 4\n",
      "####current subordinate 24\n",
      "i 4\n",
      "after popping [13, 14]\n",
      "##current supervisor 12\n",
      "####current subordinate 25\n",
      "i 4\n",
      "####current subordinate 26\n",
      "i 4\n",
      "after popping [14]\n",
      "##current supervisor 13\n",
      "####current subordinate 27\n",
      "i 4\n",
      "####current subordinate 28\n",
      "i 4\n",
      "after popping []\n",
      "##current supervisor 14\n",
      "####current subordinate 29\n",
      "i 4\n",
      "####current subordinate 30\n",
      "i 4\n",
      "[15, 16, 17, 18, 19, 20, 21, 22, 23, 24, 25, 26, 27, 28, 29, 30]\n",
      "[15, 16, 17, 18, 19, 20, 21, 22, 23, 24, 25, 26, 27, 28, 29, 30]\n"
     ]
    },
    {
     "data": {
      "image/png": "[encoded data removed]",
      "text/plain": [
       "<matplotlib.figure.Figure at 0x109b709d0>"
      ]
     },
     "metadata": {},
     "output_type": "display_data"
    }
   ],
   "source": [
    "num_levels = 5\n",
    "num_subordinates = 2\n",
    "G = nx.DiGraph()\n",
    "G.add_node(0)\n",
    "i = 1\n",
    "leaf_nodes_last_level = [0]\n",
    "nodes_in_levels = defaultdict(list)\n",
    "nodes_in_levels[0] = [0]\n",
    "levels_of_nodes = dict()\n",
    "levels_of_nodes[0] = 0\n",
    "\n",
    "for i in range(1, num_levels):\n",
    "    print i, pow(2,i)\n",
    "    num_nodes_this_level = pow(2,i)\n",
    "    possible_subordinates = range(G.number_of_nodes(), G.number_of_nodes()+ num_nodes_this_level )\n",
    "    leaf_nodes_next_level = list(possible_subordinates)\n",
    "    print \"possible subordinates\", possible_subordinates\n",
    "\n",
    "    while len(leaf_nodes_last_level) > 0:\n",
    "        current_supervisor = leaf_nodes_last_level.pop(0)\n",
    "        print \"after popping\", leaf_nodes_last_level\n",
    "        print \"##current supervisor\", current_supervisor\n",
    "        for j in range(num_subordinates):\n",
    "            current_subordinate = possible_subordinates.pop(0)\n",
    "            print \"####current subordinate\", current_subordinate\n",
    "            G.add_edge(current_supervisor, current_subordinate)\n",
    "            print \"i\", i\n",
    "            nodes_in_levels[i].append(current_subordinate)\n",
    "            levels_of_nodes[current_subordinate] = i\n",
    "    leaf_nodes_last_level = list(leaf_nodes_next_level)\n",
    "        \n",
    "# pos = hierarchy_pos(btree2, 0)\n",
    "#nx.draw(btree2,pos=nx.draw_networkx(btree2),with_labels=True,arrows=True)\n",
    "pos=nx.nx_pydot.graphviz_layout(G,prog='dot')\n",
    "nx.draw(G,pos,with_labels=True,arrows=True)\n",
    "\n",
    "print leaf_nodes_last_level\n",
    "print leaf_nodes_next_level"
   ]
  },
  {
   "cell_type": "markdown",
   "metadata": {},
   "source": [
    "Our first assumption is that the deeper the level the less the initial information $H$ in the node. And we will distribute the initial $\\alpha$ value distributed randomly using a lognormal distributions with parameter $\\mu$ and $\\sigma$"
   ]
  },
  {
   "cell_type": "code",
   "execution_count": 3,
   "metadata": {
    "collapsed": false
   },
   "outputs": [],
   "source": [
    "def sample_h(level, mean_info = 0.7, sd_info = 0.05, dmu = 0.1):\n",
    "    ## the distribution will be Truncated between 0 and 1\n",
    "    lower, upper = 0, 1\n",
    "    ## The distribution\n",
    "    mu = mean_info - (dmu * (level-1))\n",
    "    sigma = sd_info\n",
    "    X = stats.truncnorm((lower - mu) / sigma, (upper - mu) / sigma, loc=mu, scale=sigma)\n",
    "    s = X.rvs(1)[0]\n",
    "    return s\n",
    "\n",
    "def sample_alpha(mu = 0.5, sigma = 0.1):\n",
    "    ## the distribution will be Truncated between 0 and 1\n",
    "    lower, upper = 0, 1\n",
    "    ## The distribution\n",
    "    X = stats.truncnorm((lower - mu) / sigma, (upper - mu) / sigma, loc=mu, scale=sigma)\n",
    "    s = X.rvs(1)[0]\n",
    "    return s\n",
    "\n",
    "def sample_change_in_alpha(mu = 0.1, sigma = 0.01):\n",
    "    ## the distribution will be Truncated between 0 and 1\n",
    "    lower, upper = 0, 1\n",
    "    ## The distribution\n",
    "    X = stats.truncnorm((lower - mu) / sigma, (upper - mu) / sigma, loc=mu, scale=sigma)\n",
    "    s = X.rvs(1)[0]\n",
    "    return s"
   ]
  },
  {
   "cell_type": "markdown",
   "metadata": {},
   "source": [
    "We do not have any problem assigning H in node 0 as there is no edge pointing towards him. So for mu, dmu * (level -1 ) is not a problem."
   ]
  },
  {
   "cell_type": "code",
   "execution_count": 4,
   "metadata": {
    "collapsed": false
   },
   "outputs": [],
   "source": [
    "mean_trust = 0.5\n",
    "sd_trust = 0.2\n",
    "mean_info_higehst_level = 0.7\n",
    "dmu_each_level = 0.1\n",
    "mean_change_in_alpha = 0.05\n",
    "sd_change_in_alpha = 0.001\n",
    "\n",
    "for edge in G.edges():\n",
    "    subordinate_node = edge[1]\n",
    "    current_h = sample_h(levels_of_nodes[subordinate_node], mean_info = mean_info_higehst_level, dmu = dmu_each_level)\n",
    "    current_alpha = sample_alpha(mean_trust, sd_trust)\n",
    "    G[edge[0]][edge[1]]['H'] = current_h\n",
    "    G[edge[0]][edge[1]]['alpha'] = current_alpha\n",
    "    "
   ]
  },
  {
   "cell_type": "code",
   "execution_count": 5,
   "metadata": {
    "collapsed": false
   },
   "outputs": [
    {
     "data": {
      "text/plain": [
       "{(0, 1): 0.25738608564959031,\n",
       " (0, 2): 0.38992261980473458,\n",
       " (1, 3): 0.50582739585299663,\n",
       " (1, 4): 0.50637156987166554,\n",
       " (2, 5): 0.21305441658851948,\n",
       " (2, 6): 0.49804115016936451,\n",
       " (3, 7): 0.55504069799321276,\n",
       " (3, 8): 0.28284500417387848,\n",
       " (4, 9): 0.3825246060712737,\n",
       " (4, 10): 0.37825354927975507,\n",
       " (5, 11): 0.75369695551546434,\n",
       " (5, 12): 0.50710466984877967,\n",
       " (6, 13): 0.25927484587982952,\n",
       " (6, 14): 0.41045277370618444,\n",
       " (7, 15): 0.36157082926690309,\n",
       " (7, 16): 0.64278483858649926,\n",
       " (8, 17): 0.94213957685675065,\n",
       " (8, 18): 0.51133807114997876,\n",
       " (9, 19): 0.6488177342502478,\n",
       " (9, 20): 0.19941796807438167,\n",
       " (10, 21): 0.70560651838466271,\n",
       " (10, 22): 0.64000915451849671,\n",
       " (11, 23): 0.46013676741079457,\n",
       " (11, 24): 0.63903801771509217,\n",
       " (12, 25): 0.39070255547930166,\n",
       " (12, 26): 0.46219778201836936,\n",
       " (13, 27): 0.70201978737218651,\n",
       " (13, 28): 0.1411748801134991,\n",
       " (14, 29): 0.34944291740099276,\n",
       " (14, 30): 0.31810535934402195}"
      ]
     },
     "execution_count": 5,
     "metadata": {},
     "output_type": "execute_result"
    }
   ],
   "source": [
    "nx.get_edge_attributes(G, 'alpha')"
   ]
  },
  {
   "cell_type": "code",
   "execution_count": 6,
   "metadata": {
    "collapsed": false
   },
   "outputs": [
    {
     "data": {
      "text/plain": [
       "{(0, 1): 0.7245682096202587,\n",
       " (0, 2): 0.68566948408537454,\n",
       " (1, 3): 0.56594835092242757,\n",
       " (1, 4): 0.5420247299801455,\n",
       " (2, 5): 0.55390373254942871,\n",
       " (2, 6): 0.63187908066517084,\n",
       " (3, 7): 0.45864198407749535,\n",
       " (3, 8): 0.56026789373551478,\n",
       " (4, 9): 0.55777226621953724,\n",
       " (4, 10): 0.57707635605416407,\n",
       " (5, 11): 0.54627761953516729,\n",
       " (5, 12): 0.46616711826561474,\n",
       " (6, 13): 0.5057055742524138,\n",
       " (6, 14): 0.4580460121297546,\n",
       " (7, 15): 0.31059450908772529,\n",
       " (7, 16): 0.26971307348460205,\n",
       " (8, 17): 0.43142450298128665,\n",
       " (8, 18): 0.36103370803061191,\n",
       " (9, 19): 0.48465580208007825,\n",
       " (9, 20): 0.33661326198722491,\n",
       " (10, 21): 0.43608811508082884,\n",
       " (10, 22): 0.53181613740216349,\n",
       " (11, 23): 0.46663406490068282,\n",
       " (11, 24): 0.40588706710160283,\n",
       " (12, 25): 0.36054221176595513,\n",
       " (12, 26): 0.45360270485656151,\n",
       " (13, 27): 0.32737432084340767,\n",
       " (13, 28): 0.45171426538722453,\n",
       " (14, 29): 0.4402359446347503,\n",
       " (14, 30): 0.37516350332550424}"
      ]
     },
     "execution_count": 6,
     "metadata": {},
     "output_type": "execute_result"
    }
   ],
   "source": [
    "nx.get_edge_attributes(G, 'H')"
   ]
  },
  {
   "cell_type": "code",
   "execution_count": 7,
   "metadata": {
    "collapsed": false
   },
   "outputs": [
    {
     "name": "stdout",
     "output_type": "stream",
     "text": [
      "## (0, 1) -1\n",
      "processed_info -0.467182123971 delta 0.25\n",
      "Flipping\n",
      "current_alpha 0.25738608565 new_alpha 0.208328817712\n",
      "## (0, 2) -1\n",
      "processed_info -0.295746864281 delta 0.25\n",
      "Flipping\n",
      "current_alpha 0.389922619805 new_alpha 0.341481631828\n",
      "## (1, 3) 1\n",
      "processed_info 1.07177574678 delta 0.25\n",
      "Keeping\n",
      "current_alpha 0.505827395853 new_alpha 0.556455504842\n",
      "## (1, 4) 1\n",
      "processed_info 1.04839629985 delta 0.25\n",
      "Keeping\n",
      "current_alpha 0.506371569872 new_alpha 0.557346500353\n",
      "## (2, 5) 1\n",
      "processed_info 0.766958149138 delta 0.25\n",
      "Keeping\n",
      "current_alpha 0.213054416589 new_alpha 0.263590324376\n",
      "## (2, 6) 1\n",
      "processed_info 1.12992023083 delta 0.25\n",
      "Keeping\n",
      "current_alpha 0.498041150169 new_alpha 0.547775991932\n",
      "## (3, 8) 1\n",
      "processed_info 0.843112897909 delta 0.25\n",
      "Keeping\n",
      "current_alpha 0.282845004174 new_alpha 0.333196206042\n",
      "## (3, 7) 1\n",
      "processed_info 1.01368268207 delta 0.25\n",
      "Keeping\n",
      "current_alpha 0.555040697993 new_alpha 0.606113908822\n",
      "## (4, 9) 1\n",
      "processed_info 0.940296872291 delta 0.25\n",
      "Keeping\n",
      "current_alpha 0.382524606071 new_alpha 0.43350873599\n",
      "## (4, 10) 1\n",
      "processed_info 0.955329905334 delta 0.25\n",
      "Keeping\n",
      "current_alpha 0.37825354928 new_alpha 0.42834280629\n",
      "## (5, 11) 1\n",
      "processed_info 1.29997457505 delta 0.25\n",
      "Keeping\n",
      "current_alpha 0.753696955515 new_alpha 0.804334975545\n",
      "## (5, 12) 1\n",
      "processed_info 0.973271788114 delta 0.25\n",
      "Keeping\n",
      "current_alpha 0.507104669849 new_alpha 0.556438689333\n",
      "## (6, 13) 1\n",
      "processed_info 0.764980420132 delta 0.25\n",
      "Keeping\n",
      "current_alpha 0.25927484588 new_alpha 0.308871295196\n",
      "## (6, 14) 1\n",
      "processed_info 0.868498785836 delta 0.25\n",
      "Keeping\n",
      "current_alpha 0.410452773706 new_alpha 0.460709765711\n",
      "## (8, 17) 1\n",
      "processed_info 1.37356407984 delta 0.25\n",
      "Keeping\n",
      "current_alpha 0.942139576857 new_alpha 0.992132523645\n",
      "## (8, 18) 1\n",
      "processed_info 0.872371779181 delta 0.25\n",
      "Keeping\n",
      "current_alpha 0.51133807115 new_alpha 0.56024021312\n",
      "## (7, 16) 1\n",
      "processed_info 0.912497912071 delta 0.25\n",
      "Keeping\n",
      "current_alpha 0.642784838586 new_alpha 0.69189823202\n",
      "## (7, 15) 1\n",
      "processed_info 0.672165338355 delta 0.25\n",
      "Keeping\n",
      "current_alpha 0.361570829267 new_alpha 0.410734465507\n",
      "## (9, 19) 1\n",
      "processed_info 1.13347353633 delta 0.25\n",
      "Keeping\n",
      "current_alpha 0.64881773425 new_alpha 0.699713950731\n",
      "## (9, 20) 1\n",
      "processed_info 0.536031230062 delta 0.25\n",
      "Keeping\n",
      "current_alpha 0.199417968074 new_alpha 0.249818049952\n",
      "## (10, 21) 1\n",
      "processed_info 1.14169463347 delta 0.25\n",
      "Keeping\n",
      "current_alpha 0.705606518385 new_alpha 0.755407056953\n",
      "## (10, 22) 1\n",
      "processed_info 1.17182529192 delta 0.25\n",
      "Keeping\n",
      "current_alpha 0.640009154518 new_alpha 0.690432112745\n",
      "## (11, 24) 1\n",
      "processed_info 1.04492508482 delta 0.25\n",
      "Keeping\n",
      "current_alpha 0.639038017715 new_alpha 0.690422355201\n",
      "## (11, 23) 1\n",
      "processed_info 0.926770832311 delta 0.25\n",
      "Keeping\n",
      "current_alpha 0.460136767411 new_alpha 0.510818152535\n",
      "## (12, 25) 1\n",
      "processed_info 0.751244767245 delta 0.25\n",
      "Keeping\n",
      "current_alpha 0.390702555479 new_alpha 0.442258966162\n",
      "## (12, 26) 1\n",
      "processed_info 0.915800486875 delta 0.25\n",
      "Keeping\n",
      "current_alpha 0.462197782018 new_alpha 0.51156025194\n",
      "## (13, 27) 1\n",
      "processed_info 1.02939410822 delta 0.25\n",
      "Keeping\n",
      "current_alpha 0.702019787372 new_alpha 0.753720942318\n",
      "## (13, 28) 1\n",
      "processed_info 0.592889145501 delta 0.25\n",
      "Keeping\n",
      "current_alpha 0.141174880113 new_alpha 0.192290697536\n",
      "## (14, 29) 1\n",
      "processed_info 0.789678862036 delta 0.25\n",
      "Keeping\n",
      "current_alpha 0.349442917401 new_alpha 0.399174399672\n",
      "## (14, 30) 1\n",
      "processed_info 0.69326886267 delta 0.25\n",
      "Keeping\n",
      "current_alpha 0.318105359344 new_alpha 0.367092457348\n"
     ]
    }
   ],
   "source": [
    "## Order can be -1 or 1\n",
    "flips = {1:-1, -1:1}\n",
    "order = -1\n",
    "delta = 0.25 ## The higher the delta the more skeptical we are\n",
    "root_node = 0\n",
    "bits = dict()\n",
    "bits[root_node] = order\n",
    "\n",
    "for edge in list(nx.bfs_edges(G ,root_node)):\n",
    "    source_node = edge[0]\n",
    "    target_node = edge[1]\n",
    "    source_bit = bits[source_node]\n",
    "    print \"##\", edge, source_bit\n",
    "    current_alpha = G[source_node][target_node]['alpha']\n",
    "    current_info = G[source_node][target_node]['H']\n",
    "    processed_info = current_alpha + current_info * source_bit\n",
    "    print \"processed_info\", processed_info, \"delta\", delta\n",
    "    if processed_info >= delta:\n",
    "        ## Keeping\n",
    "        print \"Keeping\"\n",
    "        processed_bit = source_bit\n",
    "        new_alpha = current_alpha + sample_change_in_alpha(mean_change_in_alpha, sd_change_in_alpha)\n",
    "        if new_alpha > 1:\n",
    "            new_alpha = 1\n",
    "        elif new_alpha < 0:\n",
    "            new_alpha = 0\n",
    "        G[source_node][target_node]['alpha'] = new_alpha\n",
    "    else:\n",
    "        ## Flipping\n",
    "        print \"Flipping\"\n",
    "        processed_bit = flips[source_bit]\n",
    "        new_alpha = current_alpha - sample_change_in_alpha(mean_change_in_alpha, sd_change_in_alpha)\n",
    "        if new_alpha > 1:\n",
    "            new_alpha = 1\n",
    "        elif new_alpha < 0:\n",
    "            new_alpha = 0\n",
    "        G[source_node][target_node]['alpha'] = new_alpha\n",
    "    bits[target_node] = processed_bit\n",
    "    print \"current_alpha\", current_alpha, \"new_alpha\", new_alpha"
   ]
  },
  {
   "cell_type": "code",
   "execution_count": 8,
   "metadata": {
    "collapsed": false
   },
   "outputs": [
    {
     "name": "stdout",
     "output_type": "stream",
     "text": [
      "{0: -1, 1: 1, 2: 1, 3: 1, 4: 1, 5: 1, 6: 1, 7: 1, 8: 1, 9: 1, 10: 1, 11: 1, 12: 1, 13: 1, 14: 1, 15: 1, 16: 1, 17: 1, 18: 1, 19: 1, 20: 1, 21: 1, 22: 1, 23: 1, 24: 1, 25: 1, 26: 1, 27: 1, 28: 1, 29: 1, 30: 1}\n"
     ]
    }
   ],
   "source": [
    "print bits"
   ]
  },
  {
   "cell_type": "code",
   "execution_count": 9,
   "metadata": {
    "collapsed": false
   },
   "outputs": [
    {
     "data": {
      "text/plain": [
       "Counter({-1: 1, 1: 30})"
      ]
     },
     "execution_count": 9,
     "metadata": {},
     "output_type": "execute_result"
    }
   ],
   "source": [
    "Counter(bits.values())"
   ]
  },
  {
   "cell_type": "code",
   "execution_count": 10,
   "metadata": {
    "collapsed": false
   },
   "outputs": [
    {
     "name": "stdout",
     "output_type": "stream",
     "text": [
      "(0, 1)\n",
      "(0, 2)\n",
      "(1, 3)\n",
      "(1, 4)\n",
      "(2, 5)\n",
      "(2, 6)\n",
      "(3, 8)\n",
      "(3, 7)\n",
      "(4, 9)\n",
      "(4, 10)\n",
      "(5, 11)\n",
      "(5, 12)\n",
      "(6, 13)\n",
      "(6, 14)\n",
      "(7, 16)\n",
      "(7, 15)\n",
      "(8, 17)\n",
      "(8, 18)\n",
      "(9, 19)\n",
      "(9, 20)\n",
      "(10, 21)\n",
      "(10, 22)\n",
      "(11, 24)\n",
      "(11, 23)\n",
      "(12, 25)\n",
      "(12, 26)\n",
      "(13, 27)\n",
      "(13, 28)\n",
      "(14, 29)\n",
      "(14, 30)\n",
      "{(1, 3): (0.6, 0.6), (14, 30): (0.4, 0.4), (11, 23): (0.5, 0.5), (10, 21): (0.8, 0.4), (7, 16): (0.7, 0.3), (11, 24): (0.7, 0.4), (3, 7): (0.6, 0.5), (2, 5): (0.3, 0.6), (6, 14): (0.5, 0.5), (4, 9): (0.4, 0.6), (7, 15): (0.4, 0.3), (5, 12): (0.6, 0.5), (10, 22): (0.7, 0.5), (4, 10): (0.4, 0.6), (2, 6): (0.5, 0.6), (9, 20): (0.2, 0.3), (5, 11): (0.8, 0.5), (12, 25): (0.4, 0.4), (1, 4): (0.6, 0.5), (13, 28): (0.2, 0.5), (8, 17): (1.0, 0.4), (14, 29): (0.4, 0.4), (0, 1): (0.2, 0.7), (12, 26): (0.5, 0.5), (13, 27): (0.8, 0.3), (3, 8): (0.3, 0.6), (8, 18): (0.6, 0.4), (6, 13): (0.3, 0.5), (9, 19): (0.7, 0.5), (0, 2): (0.3, 0.7)}\n"
     ]
    }
   ],
   "source": [
    "labels = dict()\n",
    "alphas = nx.get_edge_attributes(G, 'alpha')\n",
    "Hs = nx.get_edge_attributes(G, 'H')\n",
    "for key in G.edges():\n",
    "    print key\n",
    "    current_alpha = round(alphas[key], 1)\n",
    "    current_H = round(Hs[key], 1)\n",
    "    labels[key] = (current_alpha, current_H)\n",
    "print labels"
   ]
  },
  {
   "cell_type": "code",
   "execution_count": 11,
   "metadata": {
    "collapsed": false
   },
   "outputs": [
    {
     "name": "stdout",
     "output_type": "stream",
     "text": [
      "{(1, 3): (0.6, 0.6), (14, 30): (0.4, 0.4), (11, 23): (0.5, 0.5), (10, 21): (0.8, 0.4), (7, 16): (0.7, 0.3), (11, 24): (0.7, 0.4), (3, 7): (0.6, 0.5), (2, 5): (0.3, 0.6), (6, 14): (0.5, 0.5), (4, 9): (0.4, 0.6), (7, 15): (0.4, 0.3), (5, 12): (0.6, 0.5), (10, 22): (0.7, 0.5), (4, 10): (0.4, 0.6), (2, 6): (0.5, 0.6), (9, 20): (0.2, 0.3), (5, 11): (0.8, 0.5), (12, 25): (0.4, 0.4), (1, 4): (0.6, 0.5), (13, 28): (0.2, 0.5), (8, 17): (1.0, 0.4), (14, 29): (0.4, 0.4), (0, 1): (0.2, 0.7), (12, 26): (0.5, 0.5), (13, 27): (0.8, 0.3), (3, 8): (0.3, 0.6), (8, 18): (0.6, 0.4), (6, 13): (0.3, 0.5), (9, 19): (0.7, 0.5), (0, 2): (0.3, 0.7)}\n"
     ]
    }
   ],
   "source": [
    "labels = dict()\n",
    "alphas = nx.get_edge_attributes(G, 'alpha')\n",
    "Hs = nx.get_edge_attributes(G, 'H')\n",
    "for key in G.edges():\n",
    "    #print key\n",
    "    current_alpha = round(alphas[key], 1)\n",
    "    current_H = round(Hs[key], 1)\n",
    "    labels[key] = (current_alpha, current_H)\n",
    "print labels"
   ]
  },
  {
   "cell_type": "code",
   "execution_count": 12,
   "metadata": {
    "collapsed": false
   },
   "outputs": [
    {
     "data": {
      "image/png": "[encoded data removed]",
      "text/plain": [
       "<matplotlib.figure.Figure at 0x108d97850>"
      ]
     },
     "metadata": {},
     "output_type": "display_data"
    }
   ],
   "source": [
    "plt.figure(figsize=(12,10))\n",
    "pos=nx.nx_pydot.graphviz_layout(G,prog='dot')\n",
    "nx.draw_networkx_edge_labels(G,pos=nx.nx_pydot.graphviz_layout(G,prog='dot'), edge_labels = labels)\n",
    "nx.draw(G,pos,with_labels=True,arrows=True)"
   ]
  },
  {
   "cell_type": "code",
   "execution_count": 13,
   "metadata": {
    "collapsed": false
   },
   "outputs": [
    {
     "data": {
      "text/plain": [
       "{(0, 1): (0.0, 0.9),\n",
       " (0, 2): (0.5, 0.9),\n",
       " (1, 3): (0.7, 0.7),\n",
       " (1, 4): (0.7, 0.7),\n",
       " (2, 5): (0.9, 0.8),\n",
       " (2, 6): (0.3, 0.6)}"
      ]
     },
     "execution_count": 13,
     "metadata": {},
     "output_type": "execute_result"
    }
   ],
   "source": [
    "{(0, 1): (0., 0.9), (1, 3): (0.7, 0.7), (1, 4): (0.7, 0.7), (2, 6): (0.3, 0.6), (2, 5): (0.9, 0.8), (0, 2): (0.5, 0.9)}"
   ]
  }
 ],
 "metadata": {
  "kernelspec": {
   "display_name": "Python 2",
   "language": "python",
   "name": "python2"
  },
  "language_info": {
   "codemirror_mode": {
    "name": "ipython",
    "version": 2
   },
   "file_extension": ".py",
   "mimetype": "text/x-python",
   "name": "python",
   "nbconvert_exporter": "python",
   "pygments_lexer": "ipython2",
   "version": "2.7.11"
  }
 },
 "nbformat": 4,
 "nbformat_minor": 0
}
