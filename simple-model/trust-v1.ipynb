{
 "cells": [
  {
   "cell_type": "code",
   "execution_count": 45,
   "metadata": {
    "collapsed": false
   },
   "outputs": [],
   "source": [
    "import numpy as np\n",
    "import networkx as nx\n",
    "import matplotlib.pyplot as plt\n",
    "from collections import defaultdict\n",
    "from collections import Counter\n",
    "%matplotlib inline"
   ]
  },
  {
   "cell_type": "markdown",
   "metadata": {},
   "source": [
    "The amount of information is going to be less as the position in the hierarchy increases. And the amount of trust could be random throughout the network."
   ]
  },
  {
   "cell_type": "code",
   "execution_count": 2,
   "metadata": {
    "collapsed": false
   },
   "outputs": [
    {
     "name": "stdout",
     "output_type": "stream",
     "text": [
      "1 2\n",
      "possible subordinates [1, 2]\n",
      "after popping []\n",
      "##current supervisor 0\n",
      "####current subordinate 1\n",
      "i 1\n",
      "####current subordinate 2\n",
      "i 1\n",
      "2 4\n",
      "possible subordinates [3, 4, 5, 6]\n",
      "after popping [2]\n",
      "##current supervisor 1\n",
      "####current subordinate 3\n",
      "i 2\n",
      "####current subordinate 4\n",
      "i 2\n",
      "after popping []\n",
      "##current supervisor 2\n",
      "####current subordinate 5\n",
      "i 2\n",
      "####current subordinate 6\n",
      "i 2\n",
      "3 8\n",
      "possible subordinates [7, 8, 9, 10, 11, 12, 13, 14]\n",
      "after popping [4, 5, 6]\n",
      "##current supervisor 3\n",
      "####current subordinate 7\n",
      "i 3\n",
      "####current subordinate 8\n",
      "i 3\n",
      "after popping [5, 6]\n",
      "##current supervisor 4\n",
      "####current subordinate 9\n",
      "i 3\n",
      "####current subordinate 10\n",
      "i 3\n",
      "after popping [6]\n",
      "##current supervisor 5\n",
      "####current subordinate 11\n",
      "i 3\n",
      "####current subordinate 12\n",
      "i 3\n",
      "after popping []\n",
      "##current supervisor 6\n",
      "####current subordinate 13\n",
      "i 3\n",
      "####current subordinate 14\n",
      "i 3\n",
      "4 16\n",
      "possible subordinates [15, 16, 17, 18, 19, 20, 21, 22, 23, 24, 25, 26, 27, 28, 29, 30]\n",
      "after popping [8, 9, 10, 11, 12, 13, 14]\n",
      "##current supervisor 7\n",
      "####current subordinate 15\n",
      "i 4\n",
      "####current subordinate 16\n",
      "i 4\n",
      "after popping [9, 10, 11, 12, 13, 14]\n",
      "##current supervisor 8\n",
      "####current subordinate 17\n",
      "i 4\n",
      "####current subordinate 18\n",
      "i 4\n",
      "after popping [10, 11, 12, 13, 14]\n",
      "##current supervisor 9\n",
      "####current subordinate 19\n",
      "i 4\n",
      "####current subordinate 20\n",
      "i 4\n",
      "after popping [11, 12, 13, 14]\n",
      "##current supervisor 10\n",
      "####current subordinate 21\n",
      "i 4\n",
      "####current subordinate 22\n",
      "i 4\n",
      "after popping [12, 13, 14]\n",
      "##current supervisor 11\n",
      "####current subordinate 23\n",
      "i 4\n",
      "####current subordinate 24\n",
      "i 4\n",
      "after popping [13, 14]\n",
      "##current supervisor 12\n",
      "####current subordinate 25\n",
      "i 4\n",
      "####current subordinate 26\n",
      "i 4\n",
      "after popping [14]\n",
      "##current supervisor 13\n",
      "####current subordinate 27\n",
      "i 4\n",
      "####current subordinate 28\n",
      "i 4\n",
      "after popping []\n",
      "##current supervisor 14\n",
      "####current subordinate 29\n",
      "i 4\n",
      "####current subordinate 30\n",
      "i 4\n",
      "[15, 16, 17, 18, 19, 20, 21, 22, 23, 24, 25, 26, 27, 28, 29, 30]\n",
      "[15, 16, 17, 18, 19, 20, 21, 22, 23, 24, 25, 26, 27, 28, 29, 30]\n"
     ]
    },
    {
     "data": {
      "image/png": "[encoded data removed]",
      "text/plain": [
       "<matplotlib.figure.Figure at 0x109464490>"
      ]
     },
     "metadata": {},
     "output_type": "display_data"
    }
   ],
   "source": [
    "num_levels = 5\n",
    "num_subordinates = 2\n",
    "G = nx.DiGraph()\n",
    "G.add_node(0)\n",
    "i = 1\n",
    "leaf_nodes_last_level = [0]\n",
    "nodes_in_levels = defaultdict(list)\n",
    "nodes_in_levels[0] = [0]\n",
    "levels_of_nodes = dict()\n",
    "levels_of_nodes[0] = 0\n",
    "\n",
    "for i in range(1, num_levels):\n",
    "    print i, pow(2,i)\n",
    "    num_nodes_this_level = pow(2,i)\n",
    "    possible_subordinates = range(G.number_of_nodes(), G.number_of_nodes()+ num_nodes_this_level )\n",
    "    leaf_nodes_next_level = list(possible_subordinates)\n",
    "    print \"possible subordinates\", possible_subordinates\n",
    "\n",
    "    while len(leaf_nodes_last_level) > 0:\n",
    "        current_supervisor = leaf_nodes_last_level.pop(0)\n",
    "        print \"after popping\", leaf_nodes_last_level\n",
    "        print \"##current supervisor\", current_supervisor\n",
    "        for j in range(num_subordinates):\n",
    "            current_subordinate = possible_subordinates.pop(0)\n",
    "            print \"####current subordinate\", current_subordinate\n",
    "            G.add_edge(current_supervisor, current_subordinate)\n",
    "            print \"i\", i\n",
    "            nodes_in_levels[i].append(current_subordinate)\n",
    "            levels_of_nodes[current_subordinate] = i\n",
    "    leaf_nodes_last_level = list(leaf_nodes_next_level)\n",
    "        \n",
    "# pos = hierarchy_pos(btree2, 0)\n",
    "#nx.draw(btree2,pos=nx.draw_networkx(btree2),with_labels=True,arrows=True)\n",
    "pos=nx.nx_pydot.graphviz_layout(G,prog='dot')\n",
    "nx.draw(G,pos,with_labels=True,arrows=True)\n",
    "\n",
    "print leaf_nodes_last_level\n",
    "print leaf_nodes_next_level"
   ]
  },
  {
   "cell_type": "markdown",
   "metadata": {},
   "source": [
    "Our first assumption is that the deeper the level the less the initial information $H$ in the node. And we will distribute the initial $\\alpha$ value distributed randomly using a lognormal distributions with parameter $\\mu$ and $\\sigma$"
   ]
  },
  {
   "cell_type": "code",
   "execution_count": 5,
   "metadata": {
    "collapsed": false
   },
   "outputs": [
    {
     "data": {
      "text/plain": [
       "{0: 0,\n",
       " 1: 1,\n",
       " 2: 1,\n",
       " 3: 2,\n",
       " 4: 2,\n",
       " 5: 2,\n",
       " 6: 2,\n",
       " 7: 3,\n",
       " 8: 3,\n",
       " 9: 3,\n",
       " 10: 3,\n",
       " 11: 3,\n",
       " 12: 3,\n",
       " 13: 3,\n",
       " 14: 3,\n",
       " 15: 4,\n",
       " 16: 4,\n",
       " 17: 4,\n",
       " 18: 4,\n",
       " 19: 4,\n",
       " 20: 4,\n",
       " 21: 4,\n",
       " 22: 4,\n",
       " 23: 4,\n",
       " 24: 4,\n",
       " 25: 4,\n",
       " 26: 4,\n",
       " 27: 4,\n",
       " 28: 4,\n",
       " 29: 4,\n",
       " 30: 4}"
      ]
     },
     "execution_count": 5,
     "metadata": {},
     "output_type": "execute_result"
    }
   ],
   "source": [
    "levels_of_nodes"
   ]
  },
  {
   "cell_type": "code",
   "execution_count": 49,
   "metadata": {
    "collapsed": true
   },
   "outputs": [],
   "source": [
    "def sample_h(level):\n",
    "    dmu = 0.1\n",
    "    mu = 0.7 - (dmu * (level-1))\n",
    "    sigma = 0.05\n",
    "    s = abs(np.random.normal(mu, sigma, 1))[0]\n",
    "    while s > 1:\n",
    "        s = abs(np.random.normal(mu, sigma, 1))[0]\n",
    "    return s\n",
    "\n",
    "def sample_alpha(mu, sigma):\n",
    "    s = abs(np.random.normal(mu, sigma, 1))[0]\n",
    "    #print s\n",
    "    while s > 1:\n",
    "        s = abs(np.random.normal(mu, sigma, 1))[0]\n",
    "    return s"
   ]
  },
  {
   "cell_type": "markdown",
   "metadata": {},
   "source": [
    "We do not have any problem assigning H in node 0 as there is no edge pointing towards him. So for mu, dmu * (level -1 ) is not a problem."
   ]
  },
  {
   "cell_type": "code",
   "execution_count": 50,
   "metadata": {
    "collapsed": false
   },
   "outputs": [],
   "source": [
    "mean_trust = 0.5\n",
    "sd_trust = 0.2\n",
    "for edge in G.edges():\n",
    "    subordinate_node = edge[1]\n",
    "    current_h = sample_h(levels_of_nodes[subordinate_node])\n",
    "    current_alpha = sample_alpha(mean_trust, sd_trust)\n",
    "    G[edge[0]][edge[1]]['H'] = current_h\n",
    "    G[edge[0]][edge[1]]['alpha'] = current_alpha\n",
    "    "
   ]
  },
  {
   "cell_type": "code",
   "execution_count": 51,
   "metadata": {
    "collapsed": false
   },
   "outputs": [
    {
     "data": {
      "text/plain": [
       "False"
      ]
     },
     "execution_count": 51,
     "metadata": {},
     "output_type": "execute_result"
    }
   ],
   "source": [
    "not 1"
   ]
  },
  {
   "cell_type": "code",
   "execution_count": 52,
   "metadata": {
    "collapsed": false
   },
   "outputs": [
    {
     "name": "stdout",
     "output_type": "stream",
     "text": [
      "(0, 1) 0\n",
      "## processed_info 0.955032577741\n",
      "## else\n",
      "(0, 2) 0\n",
      "## processed_info 0.565895590856\n",
      "## else\n",
      "(1, 3) 1\n",
      "## processed_info 1.17233728555\n",
      "## first if\n",
      "(1, 4) 1\n",
      "## processed_info 1.1837232521\n",
      "## first if\n",
      "(2, 5) 1\n",
      "## processed_info 0.805040860623\n",
      "## else\n",
      "(2, 6) 1\n",
      "## processed_info 1.25556642898\n",
      "## first if\n",
      "(3, 8) 1\n",
      "## processed_info 1.0465655273\n",
      "## first if\n",
      "(3, 7) 1\n",
      "## processed_info 1.05167217182\n",
      "## first if\n",
      "(4, 9) 1\n",
      "## processed_info 0.731199123054\n",
      "## else\n",
      "(4, 10) 1\n",
      "## processed_info 1.13831276547\n",
      "## first if\n",
      "(5, 11) 0\n",
      "## processed_info 0.55183044917\n",
      "## else\n",
      "(5, 12) 0\n",
      "## processed_info 0.655534291299\n",
      "## else\n",
      "(6, 13) 1\n",
      "## processed_info 1.19426442932\n",
      "## first if\n",
      "(6, 14) 1\n",
      "## processed_info 0.861500926503\n",
      "## else\n",
      "(8, 17) 1\n",
      "## processed_info 1.08530949774\n",
      "## first if\n",
      "(8, 18) 1\n",
      "## processed_info 1.02065872486\n",
      "## first if\n",
      "(7, 16) 1\n",
      "## processed_info 0.705815414089\n",
      "## else\n",
      "(7, 15) 1\n",
      "## processed_info 1.15648228179\n",
      "## first if\n",
      "(9, 19) 0\n",
      "## processed_info 0.231061265921\n",
      "## else\n",
      "(9, 20) 0\n",
      "## processed_info 0.440474765332\n",
      "## else\n",
      "(10, 21) 1\n",
      "## processed_info 0.822753202169\n",
      "## else\n",
      "(10, 22) 1\n",
      "## processed_info 0.801491036101\n",
      "## else\n",
      "(11, 24) 1\n",
      "## processed_info 0.887960807335\n",
      "## else\n",
      "(11, 23) 1\n",
      "## processed_info 0.61069795884\n",
      "## else\n",
      "(12, 25) 1\n",
      "## processed_info 0.913697337002\n",
      "## else\n",
      "(12, 26) 1\n",
      "## processed_info 1.1155881396\n",
      "## first if\n",
      "(13, 27) 1\n",
      "## processed_info 1.2423295198\n",
      "## first if\n",
      "(13, 28) 1\n",
      "## processed_info 1.04226834037\n",
      "## first if\n",
      "(14, 29) 0\n",
      "## processed_info 0.262826754394\n",
      "## else\n",
      "(14, 30) 0\n",
      "## processed_info 0.683989712835\n",
      "## else\n"
     ]
    }
   ],
   "source": [
    "order = 0\n",
    "root_node = 0\n",
    "bits = dict()\n",
    "bits[root_node] = order\n",
    "\n",
    "for edge in list(nx.bfs_edges(G ,root_node)):\n",
    "    source_node = edge[0]\n",
    "    target_node = edge[1]\n",
    "    source_bit = bits[source_node]\n",
    "    print edge, source_bit\n",
    "    processed_info = G[edge[0]][edge[1]]['alpha'] + G[edge[0]][edge[1]]['H'] * source_bit\n",
    "    print \"## processed_info\", processed_info\n",
    "    if processed_info > 1:\n",
    "        print \"## first if\"\n",
    "        processed_bit = source_bit\n",
    "    else: \n",
    "        print \"## else\"\n",
    "        processed_bit = 1 - source_bit\n",
    "    bits[target_node] = processed_bit\n",
    "    #print edge, processed_info,processed_bit"
   ]
  },
  {
   "cell_type": "code",
   "execution_count": 57,
   "metadata": {
    "collapsed": false
   },
   "outputs": [
    {
     "name": "stdout",
     "output_type": "stream",
     "text": [
      "{0: 0, 1: 1, 2: 1, 3: 1, 4: 1, 5: 0, 6: 1, 7: 1, 8: 1, 9: 0, 10: 1, 11: 1, 12: 1, 13: 1, 14: 0, 15: 1, 16: 0, 17: 1, 18: 1, 19: 1, 20: 1, 21: 0, 22: 0, 23: 0, 24: 0, 25: 0, 26: 1, 27: 1, 28: 1, 29: 1, 30: 1}\n"
     ]
    }
   ],
   "source": [
    "print bits"
   ]
  },
  {
   "cell_type": "code",
   "execution_count": null,
   "metadata": {
    "collapsed": true
   },
   "outputs": [],
   "source": []
  }
 ],
 "metadata": {
  "kernelspec": {
   "display_name": "Python 2",
   "language": "python",
   "name": "python2"
  },
  "language_info": {
   "codemirror_mode": {
    "name": "ipython",
    "version": 2
   },
   "file_extension": ".py",
   "mimetype": "text/x-python",
   "name": "python",
   "nbconvert_exporter": "python",
   "pygments_lexer": "ipython2",
   "version": "2.7.11"
  }
 },
 "nbformat": 4,
 "nbformat_minor": 0
}
